{
 "cells": [
  {
   "cell_type": "markdown",
   "id": "77ff910f",
   "metadata": {},
   "source": [
    "Function that computes all powers"
   ]
  },
  {
   "cell_type": "code",
   "execution_count": 23,
   "id": "cf4ebe37",
   "metadata": {
    "scrolled": true
   },
   "outputs": [],
   "source": [
    "from perfetto.trace_processor import TraceProcessor\n",
    "import numpy as np\n",
    "import matplotlib.pyplot as plt\n",
    "import plotly.graph_objects as go\n",
    "from plotly.subplots import make_subplots\n",
    "import pandas as pd\n",
    "\n",
    "def get_powers(num_tps,df_list_cleaned,scale):\n",
    "#     plt.rcParams['figure.figsize'] = [13, 10]\n",
    "    initial_offset = 2\n",
    "#     color_list = ['green','teal','salmon','salmon','salmon','salmon','salmon','salmon','salmon','salmon','salmon','salmon']\n",
    "#     legend_list = ['','','Modem','RFE','','','','','','','','','','Display']\n",
    "\n",
    "    battery_power = []\n",
    "    battery_mean_pwr = []\n",
    "    battery_charge = []\n",
    "    delta_battery = []\n",
    "\n",
    "\n",
    "    for tp_idx in range(num_tps):\n",
    "        df_np = np.array(df_list_cleaned[tp_idx])\n",
    "        df_np[:,:,0] = df_np[:,:,0] - np.tile(df_np[:,0,0],[df_np.shape[1],1]).T\n",
    "        df_np[:,:,0] = df_np[:,:,0]/1e9\n",
    "        sum_pwr = [0]*len(df_np[1,:,1])\n",
    "#         plt.subplot(num_tps,1,tp_idx+1)\n",
    "        for i in range(4):\n",
    "            x_vals = df_np[i,:,0]\n",
    "            y_vals = df_np[i,:,1]\n",
    "            delta_x_vals = np.copy(x_vals)\n",
    "            delta_x_vals[1:] = delta_x_vals[1:]-delta_x_vals[0:x_vals.size-1]\n",
    "            delta_x_vals[0] = 0\n",
    "            delta_y_vals = np.copy(y_vals)\n",
    "            if (i==0) : #reads battery charge\n",
    "#                 print(y_vals)\n",
    "                delta_y_vals = 3.7*10**(-3)*((y_vals[0]-y_vals[-1])/(len(y_vals)/(4*3600))) #compute power from battery current\n",
    "#                 plt.plot(x_vals[initial_offset:],delta_y_vals,color = 'blue',label=\"Battery power consumed (mW)\")\n",
    "                battery_charge.append(delta_y_vals)\n",
    "            if (i==2) : #reads battery current\n",
    "#                 print(y_vals)\n",
    "                delta_y_vals = 3.7*10**(-3)*scale*(abs(y_vals[initial_offset:])) #compute power from battery current\n",
    "#                 plt.plot(x_vals[initial_offset:],delta_y_vals,color = 'blue',label=\"Battery power consumed (mW)\")\n",
    "                battery_power.append((delta_y_vals))\n",
    "                battery_mean_pwr.append(np.mean(delta_y_vals))\n",
    "        if (tp_idx > 0) :\n",
    "            delta_battery.append((np.mean(battery_power[1]))-np.mean(battery_power[0]))       \n",
    "    outputs = [delta_battery,battery_power,battery_mean_pwr] #return the difference in airplane and standby power\n",
    "    return outputs"
   ]
  },
  {
   "cell_type": "code",
   "execution_count": 24,
   "id": "70814272",
   "metadata": {},
   "outputs": [],
   "source": [
    "def get_powers_pixel(num_tps,df_list_cleaned):\n",
    "    plt.rcParams['figure.figsize'] = [13, 10]\n",
    "    initial_offset = 2\n",
    "    battery_power = []\n",
    "    odpm_avg = []\n",
    "    battery_mean_pwr =[]\n",
    "    modem_avg = []\n",
    "    disp_avg = []\n",
    "    rfe_avg = []\n",
    "    delta_battery = []\n",
    "    cell_avg = []\n",
    "    all_powers = pd.DataFrame(index=range(24), columns=range(num_tps))\n",
    "    pct_cell = []\n",
    "    pct_battery = []\n",
    "    pct_p_tilda_pi = []\n",
    "    for tp_idx in range(num_tps):\n",
    "        df_np = np.array(df_list_cleaned[tp_idx])\n",
    "        df_np[:,:,0] = df_np[:,:,0] - np.tile(df_np[:,0,0],[df_np.shape[1],1]).T\n",
    "        df_np[:,:,0] = df_np[:,:,0]/1e9\n",
    "        sum_pwr = [0]*len(df_np[1,:,1])\n",
    "#         plt.subplot(num_tps,1,tp_idx+1)\n",
    "        for i in range(0,25):\n",
    "            x_vals = df_np[i,:,0]\n",
    "            y_vals = df_np[i,:,1]\n",
    "            delta_x_vals = np.copy(x_vals)\n",
    "            delta_x_vals[1:] = delta_x_vals[1:]-delta_x_vals[0:x_vals.size-1]\n",
    "            delta_x_vals[0] = 0\n",
    "            delta_y_vals = np.copy(y_vals)\n",
    "            if (i==0) :\n",
    "                delta_y_vals = 3.75*10**(-3)*(abs(y_vals[initial_offset:]))\n",
    "                battery_power.append(delta_y_vals)\n",
    "                battery_mean_pwr.append(np.mean(delta_y_vals))\n",
    "\n",
    "            if (i>=1):\n",
    "                delta_y_vals[1:] = delta_y_vals[1:]-delta_y_vals[0:y_vals.size-1]\n",
    "                delta_y_vals[0] = 0\n",
    "                avg_pow_indiv = np.mean(delta_y_vals[initial_offset:]*(4/1000))\n",
    "                all_powers.iloc[i-1,tp_idx] = avg_pow_indiv\n",
    "                sum_pwr = sum_pwr+delta_y_vals\n",
    "            if(i==2):\n",
    "                modem_avg.append(np.mean(delta_y_vals)*4/1000)\n",
    "\n",
    "            if(i==3):\n",
    "                rfe_avg.append(np.mean(delta_y_vals)*4/1000)\n",
    "\n",
    "            if (i ==13):\n",
    "                disp_avg.append(np.mean(delta_y_vals)*4/1000)\n",
    "\n",
    "        odpm_avg.append(np.mean(sum_pwr)*4/1000)\n",
    "        if (tp_idx >0):\n",
    "            pi_hat = rfe_avg[tp_idx]+modem_avg[tp_idx]\n",
    "            cell_avg.append(pi_hat)\n",
    "            pi_tilda = battery_mean_pwr[tp_idx] - battery_mean_pwr[0]\n",
    "            delta_battery.append(pi_tilda)\n",
    "            pi = odpm_avg[tp_idx]\n",
    "            pct_cell.append((pi_hat)/pi) #modem/total\n",
    "            pct_battery.append(pi_tilda/pi_hat) #battery diff/modem\n",
    "            pct_p_tilda_pi.append(pi_tilda/pi) #battery diff /total\n",
    "    outputs = [delta_battery,battery_mean_pwr,modem_avg,rfe_avg,disp_avg,odpm_avg,pct_cell,pct_battery,pct_p_tilda_pi]        \n",
    "    return outputs"
   ]
  },
  {
   "cell_type": "code",
   "execution_count": 31,
   "id": "54299ec2",
   "metadata": {
    "scrolled": true
   },
   "outputs": [
    {
     "name": "stdout",
     "output_type": "stream",
     "text": [
      "0\n",
      "0\n",
      "1\n",
      "1\n",
      "2\n",
      "2\n"
     ]
    }
   ],
   "source": [
    "from perfetto.trace_processor import TraceProcessor\n",
    "import numpy as np\n",
    "import matplotlib.pyplot as plt\n",
    "import plotly.graph_objects as go\n",
    "from plotly.subplots import make_subplots\n",
    "import pandas as pd\n",
    "\n",
    "# Initialise TraceProcessor with a trace file\n",
    "color_list = ['blue','cyan','teal','red','pink','salmon']\n",
    "line_list = ['-','-','-','-','-','-','-','-','-','-','-','-','-']\n",
    "enable_legend = True\n",
    "\n",
    "num_exps = 3\n",
    "battery = []\n",
    "col_list = ['Airplane','Airplane YT','Wifi YT','LTE YT','5g YT']\n",
    "#             'Airplane','Standby',Wifi_Youtube','5G_Youtube','Wifi_iperf1M_UL','5G_Iperf1M_UL']\n",
    "# col_list = ['Airplane','Standby','Iperf1M']\n",
    "# total_pwr_data_s23 = pd.DataFrame(index=range(num_exps), columns=col_list)\n",
    "# total_pwr_data_pxl = pd.DataFrame(index=range(num_exps), columns=col_list)\n",
    "modem_pwr_wifi = []\n",
    "display_pwr_wifi = []\n",
    "rfe_pwr_wifi = []\n",
    "total_pwr_wifi = []\n",
    "modem_pwr_cell = []\n",
    "display_pwr_cell = []\n",
    "rfe_pwr_cell = []\n",
    "total_pwr_cell = []\n",
    "for exp in range(0,num_exps):\n",
    "    df_list_cleaned = []\n",
    "    tp_list= []\n",
    "    print(exp)\n",
    "    tp_list.append(TraceProcessor(trace='./Perfetto_traces/pxl/5_4_no_charge_airplane_'+str(exp)+'.perfetto-trace')) #10-15 dBm\n",
    "    tp_list.append(TraceProcessor(trace='./Perfetto_traces/pxl/pixel_htspot_80_1min_'+str(exp)+'.perfetto-trace')) #10-15 dBm\n",
    "    tp_list.append(TraceProcessor(trace='./Perfetto_traces/pxl/pixel_htspot_DL_80_1min_'+str(exp)+'.perfetto-trace')) #10-15 dBmnum_tps = len(tp_list)\n",
    "    num_tps = len(tp_list)\n",
    "    id_mapper = [27]+list(range(1,25))\n",
    "    df_list_cleaned = [[tp.query('SELECT ts,value FROM counter WHERE track_id='+str(i)+'')\n",
    "                   .as_pandas_dataframe().replace(np.nan,0)\n",
    "                   .values.tolist() for i in id_mapper] for tp in tp_list]\n",
    "    outputs = get_powers_pixel(num_tps,df_list_cleaned)\n",
    "    modem_pwr_wifi.append(outputs[2])\n",
    "    rfe_pwr_wifi.append(outputs[3])\n",
    "    display_pwr_wifi.append(outputs[4])\n",
    "    total_pwr_wifi.append(outputs[5])\n",
    "#     delta_battery_s.append(outputs[0])\n",
    "#     battery_pwr_s23.append(outputs[2])\n",
    "#     battery_pwr_data_s23.iloc[exp,:] = outputs[2]\n",
    "    \n",
    "    \n",
    "    df_list_cleaned = []\n",
    "    tp_list= []\n",
    "    print(exp)\n",
    "    tp_list.append(TraceProcessor(trace='./Perfetto_traces/pxl/5_4_no_charge_airplane_'+str(exp)+'.perfetto-trace')) #10-15 dBm\n",
    "    tp_list.append(TraceProcessor(trace='./Perfetto_traces/pxl/5_4_no_charge_iperf1M_'+str(exp)+'.perfetto-trace')) #10-15 dBm\n",
    "    tp_list.append(TraceProcessor(trace='./Perfetto_traces/pxl/ul_iperf1M_'+str(exp)+'.perfetto-trace')) #10-15 dB\n",
    "    num_tps = len(tp_list)\n",
    "    id_mapper = [27]+list(range(1,25))\n",
    "    df_list_cleaned = [[tp.query('SELECT ts,value FROM counter WHERE track_id='+str(i)+'')\n",
    "                   .as_pandas_dataframe().replace(np.nan,0)\n",
    "                   .values.tolist() for i in id_mapper] for tp in tp_list]\n",
    "    scale=1\n",
    "    outputs = get_powers_pixel(num_tps,df_list_cleaned)\n",
    "    modem_pwr_cell.append(outputs[2])\n",
    "    rfe_pwr_cell.append(outputs[3])\n",
    "    display_pwr_cell.append(outputs[4])\n",
    "    total_pwr_cell.append(outputs[5])\n",
    "#     battery_pwr_data_pxl.iloc[exp,:] = outputs[1]\n",
    "\n",
    "#     print(battery) #battery stores standby-airplane (output for each iteration) for different experiments\n"
   ]
  },
  {
   "cell_type": "code",
   "execution_count": 30,
   "id": "291c6e65",
   "metadata": {},
   "outputs": [
    {
     "data": {
      "text/plain": [
       "[[1.6119170124481328, 3.272863070539419, 3.633045643153527],\n",
       " [1.6119170124481328, 5.503601659751037, 30.167502074688798],\n",
       " [1.4924813278008298, 3.3791369294605813, 3.3765975103734442],\n",
       " [1.4924813278008298, 5.841875518672199, 25.343452282157674],\n",
       " [1.3652892561983472, 3.7332780082987553, 3.027850622406639],\n",
       " [1.3652892561983472, 6.2884149377593355, 13.822107883817427]]"
      ]
     },
     "execution_count": 30,
     "metadata": {},
     "output_type": "execute_result"
    }
   ],
   "source": [
    "np.array(rfe_pwr_wifi)+np.array(modem_pwr_wifi)"
   ]
  },
  {
   "cell_type": "code",
   "execution_count": null,
   "id": "25a7b22e",
   "metadata": {},
   "outputs": [],
   "source": [
    "x = np.arange(2)\n",
    "# ['Pixel 7a','S23]\n",
    "num = 3\n",
    "labels = [\"display\",\"Wifi\",\"Cellular\"]\n",
    "bars = [\"display\",\"modem+rfe\",\"total\"]\n",
    "for i in range(num):\n",
    "    airplane = [total_pwr_wifi[0],total_pwr_wifi[0]]\n",
    "lte_std = combined_battery['LTE Standby FB']-combined_battery['Airplane Full Brightness']\n",
    "display = combined_battery['5G stdby FB']-combined_battery['Stdby disp off']\n",
    "display_5g = combined_battery['5G stdby FB']-combined_battery['Stdby disp off']\n",
    "std_5g= combined_battery['5G stdby FB']-combined_battery['Airplane Full Brightness']\n",
    "\n",
    "width = 0.25\n",
    "plt.bar(x-width/2,airplane,width,color='lightblue',edgecolor='k',label = 'Others') \n",
    "plt.bar(x-width/2,display,width,color='blue',edgecolor='k',label ='Display')\n",
    "plt.bar(x-width/2,lte_std,width,bottom=airplane,color='cyan',label='4g Standby Modem+RFE',edgecolor='k')\n",
    "# plt.bar(x,lte,width,bottom=airplane,color='cyan',label='Standby',edgecolor='k')\n",
    "\n",
    "plt.bar(x+width/2,airplane,width,color='lightblue',edgecolor='k',)\n",
    "plt.bar(x+width/2,display_5g,width,color='blue',edgecolor='k',)\n",
    "\n",
    "plt.bar(x+width/2,std_5g,width,bottom=airplane,color='lavender',label='5g standby Modem+RFE',edgecolor='k')\n",
    "plt.legend()\n",
    "plt.xticks(x,['Pixel','S23'])"
   ]
  },
  {
   "cell_type": "code",
   "execution_count": 9,
   "id": "9c811035",
   "metadata": {
    "scrolled": false
   },
   "outputs": [
    {
     "name": "stdout",
     "output_type": "stream",
     "text": [
      "0\n",
      "0\n",
      "1\n",
      "1\n",
      "2\n",
      "2\n"
     ]
    }
   ],
   "source": [
    "from perfetto.trace_processor import TraceProcessor\n",
    "import numpy as np\n",
    "import matplotlib.pyplot as plt\n",
    "import plotly.graph_objects as go\n",
    "from plotly.subplots import make_subplots\n",
    "\n",
    "# Initialise TraceProcessor with a trace file\n",
    "color_list = ['blue','cyan','teal','red','pink','salmon']\n",
    "line_list = ['-','-','-','-','-','-','-','-','-','-','-','-','-']\n",
    "enable_legend = True\n",
    "\n",
    "num_exps = 3\n",
    "battery = []\n",
    "col_list = ['Airplane Full Brightness','LTE Standby FB','5G stdby FB','Stdby disp off','Wifi YT','LTE YT','5g YT']\n",
    "#             'Airplane','Standby',Wifi_Youtube','5G_Youtube','Wifi_iperf1M_UL','5G_Iperf1M_UL']\n",
    "# col_list = ['Airplane','Standby','Iperf1M']\n",
    "battery_pwr_data_s23 = pd.DataFrame(index=range(num_exps), columns=col_list)\n",
    "battery_pwr_data_pxl = pd.DataFrame(index=range(num_exps), columns=col_list)\n",
    "delta_battery_s23 =[]\n",
    "delta_battery_pxl =[]\n",
    "battery_pwr_s23 = []\n",
    "battery_pwr_pxl = []\n",
    "modem_pwr_pxl = []\n",
    "display_pwr_pxl = []\n",
    "rfe_pwr_pxl = []\n",
    "for exp in range(0,num_exps):\n",
    "    df_list_cleaned = []\n",
    "    tp_list= []\n",
    "    print(exp)\n",
    "    tp_list.append(TraceProcessor(trace='./Perfetto_traces/s23/s23_airp_2min_0'+str(exp) +'.perfetto-trace')) #10-15 dBm\n",
    "    tp_list.append(TraceProcessor(trace='./Perfetto_traces/s23/s23_LTE_stdby_50_1min_'+str(exp) +'.perfetto-trace')) #10-15 dBm\n",
    "    tp_list.append(TraceProcessor(trace='./Perfetto_traces/s23/s23_stdby_tmob_2min_'+str(exp+4)+'.perfetto-trace')) #10-15 dBm\n",
    "    tp_list.append(TraceProcessor(trace='./Perfetto_traces/s23/s23_5G_stdby_dispOFF_2min_'+str(exp)+'.perfetto-trace')) #10-15 dBm\n",
    "    tp_list.append(TraceProcessor(trace='./Perfetto_traces/s23/s23_wifi_ytube_720p_2min_'+str(exp)+'.perfetto-trace')) #10-15 dBm\n",
    "    tp_list.append(TraceProcessor(trace='./Perfetto_traces/s23/s23_LTE_youtube_halfB_2min_'+str(exp)+'.perfetto-trace')) #10-15 dBm\n",
    "    tp_list.append(TraceProcessor(trace='./Perfetto_traces/s23/s23_ytube_720p_2min_'+str(exp)+'.perfetto-trace')) #10-15 dBm\n",
    "    num_tps = len(tp_list)\n",
    "    id_mapper = list(range(1,5))\n",
    "    df_list_cleaned = [[tp.query('SELECT ts,value FROM counter WHERE track_id='+str(i)+'')\n",
    "                   .as_pandas_dataframe().replace(np.nan,0)\n",
    "                   .values.tolist() for i in id_mapper] for tp in tp_list]\n",
    "    scale =1000\n",
    "    outputs = get_powers(num_tps,df_list_cleaned,scale)\n",
    "    delta_battery_s23.append(outputs[0])\n",
    "    battery_pwr_s23.append(outputs[2])\n",
    "    battery_pwr_data_s23.iloc[exp,:] = outputs[2]\n",
    "    \n",
    "    \n",
    "    df_list_cleaned = []\n",
    "    tp_list= []\n",
    "    print(exp)\n",
    "    tp_list.append(TraceProcessor(trace='./Perfetto_traces/pxl/5_4_no_charge_airplane_'+str(exp)+'.perfetto-trace')) #10-15 dBm\n",
    "    tp_list.append(TraceProcessor(trace='./Perfetto_traces/pxl/pxl_LTE_Stnd40_2min_'+str(exp)+'.perfetto-trace')) #10-15 dBm\n",
    "    tp_list.append(TraceProcessor(trace='./Perfetto_traces/pxl/pxl_mint_stdby_2min_'+str(exp)+'.perfetto-trace')) #10-15 dBm\n",
    "    tp_list.append(TraceProcessor(trace='./Perfetto_traces/pxl/pxl_mint_stdby_dispOff_2min_'+str(exp)+'.perfetto-trace')) #10-15 dBm\n",
    "    tp_list.append(TraceProcessor(trace='./Perfetto_traces/pxl/pxl_mint_WiFiYoutube_2min_'+str(exp)+'.perfetto-trace')) #10-15 dBm\n",
    "    tp_list.append(TraceProcessor(trace='./Perfetto_traces/pxl/pxl_LTE_YT_50_2min_'+str(exp)+'.perfetto-trace')) #10-15 dBm\n",
    "    tp_list.append(TraceProcessor(trace='./Perfetto_traces/pxl/pxl_5G_YT_50_2min_'+str(exp)+'.perfetto-trace')) #10-15 dBm\n",
    "    num_tps = len(tp_list)\n",
    "    id_mapper = [27]+list(range(1,25))\n",
    "    df_list_cleaned = [[tp.query('SELECT ts,value FROM counter WHERE track_id='+str(i)+'')\n",
    "                   .as_pandas_dataframe().replace(np.nan,0)\n",
    "                   .values.tolist() for i in id_mapper] for tp in tp_list]\n",
    "    scale=1\n",
    "    outputs = get_powers_pixel(num_tps,df_list_cleaned)\n",
    "    delta_battery_pxl.append(outputs[0])\n",
    "    battery_pwr_pxl.append(outputs[1])\n",
    "    modem_pwr_pxl.append(outputs[2])\n",
    "    rfe_pwr_pxl.append(outputs[3])\n",
    "    display_pwr_pxl.append(outputs[4])\n",
    "    battery_pwr_data_pxl.iloc[exp,:] = outputs[1]\n",
    "\n",
    "#     print(battery) #battery stores standby-airplane (output for each iteration) for different experiments\n"
   ]
  },
  {
   "cell_type": "code",
   "execution_count": 351,
   "id": "b16bf137",
   "metadata": {},
   "outputs": [],
   "source": [
    "battery_avg_s23 = np.mean(battery_pwr_s23,0)\n",
    "error_s23 =  np.std(battery_pwr_s23,0)\n",
    "battery_avg_pxl = np.mean(battery_pwr_pxl,0)\n",
    "error_pxl =  np.std(battery_pwr_pxl,0)"
   ]
  },
  {
   "cell_type": "markdown",
   "id": "d5c52d78",
   "metadata": {},
   "source": [
    "Errorbar plots"
   ]
  },
  {
   "cell_type": "code",
   "execution_count": null,
   "id": "045b8343",
   "metadata": {
    "scrolled": true
   },
   "outputs": [],
   "source": [
    "# col_list = ['Airplane','Standby','Airplane Full Brightness','Wifi_Youtube','5G_Youtube','Wifi_iperf1M_UL','5G_Iperf1M_UL']\n",
    "\n",
    "legend_list = ['Airplane FullB','LTE Standby FullB','5G Standby FB','Disp off','Wifi YT','LTE YT','5g YT']\n",
    "plt.rcParams['figure.figsize'] = [13, 10]\n",
    "# for i in range(col_list):\n",
    "plt.errorbar(range(len(legend_list)),battery_avg_s23,color='blue',yerr = error_s23,linestyle='-',label = 'S23')\n",
    "plt.errorbar(range(len(legend_list)),battery_avg_pxl,color='purple',yerr = error_pxl,linestyle='-',label = 'Pixel7a')\n",
    "plt.legend()\n",
    "plt.title('Total Power consumption') \n",
    "plt.xlabel('Experiments')\n",
    "plt.ylabel('Power(mW)')\n",
    "plt.xticks(range(len(legend_list)),legend_list)\n",
    "plt.grid(visible=True,which='major',color='k', linestyle=':', linewidth=1, alpha=0.5)\n",
    "plt.grid(visible=True,which='minor',color='k', linestyle=':', linewidth=1, alpha=0.1)\n",
    "# plt.ylim([300,800])\n"
   ]
  },
  {
   "cell_type": "markdown",
   "id": "8e02f197",
   "metadata": {},
   "source": [
    "Bar plots - standby (Fig 4)"
   ]
  },
  {
   "cell_type": "code",
   "execution_count": 324,
   "id": "5c3dc73a",
   "metadata": {},
   "outputs": [],
   "source": [
    "pxl_odpm_pwrs = [np.mean(modem_pwr_pxl,0),np.mean(rfe_pwr_pxl,0),np.mean(display_pwr_pxl,0),np.mean(battery_pwr_data_pxl,0)]"
   ]
  },
  {
   "cell_type": "code",
   "execution_count": 354,
   "id": "01b00370",
   "metadata": {},
   "outputs": [
    {
     "data": {
      "text/html": [
       "<div>\n",
       "<style scoped>\n",
       "    .dataframe tbody tr th:only-of-type {\n",
       "        vertical-align: middle;\n",
       "    }\n",
       "\n",
       "    .dataframe tbody tr th {\n",
       "        vertical-align: top;\n",
       "    }\n",
       "\n",
       "    .dataframe thead th {\n",
       "        text-align: right;\n",
       "    }\n",
       "</style>\n",
       "<table border=\"1\" class=\"dataframe\">\n",
       "  <thead>\n",
       "    <tr style=\"text-align: right;\">\n",
       "      <th></th>\n",
       "      <th>Airplane Full Brightness</th>\n",
       "      <th>LTE Standby FB</th>\n",
       "      <th>5G stdby FB</th>\n",
       "      <th>Stdby disp off</th>\n",
       "      <th>Wifi YT</th>\n",
       "      <th>LTE YT</th>\n",
       "      <th>5g YT</th>\n",
       "    </tr>\n",
       "  </thead>\n",
       "  <tbody>\n",
       "    <tr>\n",
       "      <th>Pixel</th>\n",
       "      <td>349.696934</td>\n",
       "      <td>532.242338</td>\n",
       "      <td>686.665618</td>\n",
       "      <td>387.137842</td>\n",
       "      <td>1008.801547</td>\n",
       "      <td>1246.325261</td>\n",
       "      <td>1401.57232</td>\n",
       "    </tr>\n",
       "    <tr>\n",
       "      <th>S23</th>\n",
       "      <td>585.789562</td>\n",
       "      <td>725.365132</td>\n",
       "      <td>772.123312</td>\n",
       "      <td>323.931524</td>\n",
       "      <td>1064.474809</td>\n",
       "      <td>1186.780793</td>\n",
       "      <td>1257.004493</td>\n",
       "    </tr>\n",
       "  </tbody>\n",
       "</table>\n",
       "</div>"
      ],
      "text/plain": [
       "      Airplane Full Brightness LTE Standby FB 5G stdby FB Stdby disp off  \\\n",
       "Pixel               349.696934     532.242338  686.665618     387.137842   \n",
       "S23                 585.789562     725.365132  772.123312     323.931524   \n",
       "\n",
       "           Wifi YT       LTE YT        5g YT  \n",
       "Pixel  1008.801547  1246.325261   1401.57232  \n",
       "S23    1064.474809  1186.780793  1257.004493  "
      ]
     },
     "execution_count": 354,
     "metadata": {},
     "output_type": "execute_result"
    }
   ],
   "source": [
    "combined_battery  = pd.DataFrame(np.mean(battery_pwr_data_pxl,0)).T\n",
    "combined_battery.loc[-1] = pd.Series(np.mean(battery_pwr_data_s23,0))\n",
    "combined_battery.set_axis(['Pixel','S23'])\n"
   ]
  },
  {
   "cell_type": "code",
   "execution_count": 361,
   "id": "e54c6a3a",
   "metadata": {},
   "outputs": [
    {
     "data": {
      "text/plain": [
       "([<matplotlib.axis.XTick at 0x1edd249b790>,\n",
       "  <matplotlib.axis.XTick at 0x1edd249be90>],\n",
       " [Text(0, 0, 'Pixel'), Text(1, 0, 'S23')])"
      ]
     },
     "execution_count": 361,
     "metadata": {},
     "output_type": "execute_result"
    },
    {
     "data": {
      "image/png": "[encoded data removed]",
      "text/plain": [
       "<Figure size 1300x1000 with 1 Axes>"
      ]
     },
     "metadata": {},
     "output_type": "display_data"
    }
   ],
   "source": [
    "x = np.arange(2)\n",
    "# ['Pixel 7a','S23]\n",
    "airplane = combined_battery['Airplane Full Brightness']\n",
    "lte_std = combined_battery['LTE Standby FB']-combined_battery['Airplane Full Brightness']\n",
    "display = combined_battery['5G stdby FB']-combined_battery['Stdby disp off']\n",
    "display_5g = combined_battery['5G stdby FB']-combined_battery['Stdby disp off']\n",
    "std_5g= combined_battery['5G stdby FB']-combined_battery['Airplane Full Brightness']\n",
    "\n",
    "width = 0.25\n",
    "plt.bar(x-width/2,airplane,width,color='lightblue',edgecolor='k',label = 'Others') \n",
    "plt.bar(x-width/2,display,width,color='blue',edgecolor='k',label ='Display')\n",
    "plt.bar(x-width/2,lte_std,width,bottom=airplane,color='cyan',label='4g Standby Modem+RFE',edgecolor='k')\n",
    "# plt.bar(x,lte,width,bottom=airplane,color='cyan',label='Standby',edgecolor='k')\n",
    "\n",
    "plt.bar(x+width/2,airplane,width,color='lightblue',edgecolor='k',)\n",
    "plt.bar(x+width/2,display_5g,width,color='blue',edgecolor='k',)\n",
    "\n",
    "plt.bar(x+width/2,std_5g,width,bottom=airplane,color='lavender',label='5g standby Modem+RFE',edgecolor='k')\n",
    "plt.legend()\n",
    "plt.xticks(x,['Pixel','S23'])"
   ]
  },
  {
   "cell_type": "markdown",
   "id": "856bd672",
   "metadata": {},
   "source": [
    "Fig 5 - youtube"
   ]
  },
  {
   "cell_type": "code",
   "execution_count": 19,
   "id": "6bdf78b3",
   "metadata": {},
   "outputs": [
    {
     "data": {
      "text/html": [
       "<div>\n",
       "<style scoped>\n",
       "    .dataframe tbody tr th:only-of-type {\n",
       "        vertical-align: middle;\n",
       "    }\n",
       "\n",
       "    .dataframe tbody tr th {\n",
       "        vertical-align: top;\n",
       "    }\n",
       "\n",
       "    .dataframe thead th {\n",
       "        text-align: right;\n",
       "    }\n",
       "</style>\n",
       "<table border=\"1\" class=\"dataframe\">\n",
       "  <thead>\n",
       "    <tr style=\"text-align: right;\">\n",
       "      <th></th>\n",
       "      <th>Airplane</th>\n",
       "      <th>Airplane YT</th>\n",
       "      <th>Wifi YT</th>\n",
       "      <th>LTE YT</th>\n",
       "      <th>5g YT</th>\n",
       "    </tr>\n",
       "  </thead>\n",
       "  <tbody>\n",
       "    <tr>\n",
       "      <th>Pixel</th>\n",
       "      <td>349.696934</td>\n",
       "      <td>745.975126</td>\n",
       "      <td>946.605957</td>\n",
       "      <td>1246.325261</td>\n",
       "      <td>1401.57232</td>\n",
       "    </tr>\n",
       "    <tr>\n",
       "      <th>S23</th>\n",
       "      <td>585.789562</td>\n",
       "      <td>743.890934</td>\n",
       "      <td>1078.048905</td>\n",
       "      <td>1186.780793</td>\n",
       "      <td>1257.004493</td>\n",
       "    </tr>\n",
       "  </tbody>\n",
       "</table>\n",
       "</div>"
      ],
      "text/plain": [
       "         Airplane Airplane YT      Wifi YT       LTE YT        5g YT\n",
       "Pixel  349.696934  745.975126   946.605957  1246.325261   1401.57232\n",
       "S23    585.789562  743.890934  1078.048905  1186.780793  1257.004493"
      ]
     },
     "execution_count": 19,
     "metadata": {},
     "output_type": "execute_result"
    }
   ],
   "source": [
    "combined_battery  = pd.DataFrame(np.mean(battery_pwr_data_pxl,0)).T\n",
    "combined_battery.loc[-1] = pd.Series(np.mean(battery_pwr_data_s23,0))\n",
    "combined_battery.set_axis(['Pixel','S23'])\n"
   ]
  },
  {
   "cell_type": "code",
   "execution_count": 20,
   "id": "1a35921d",
   "metadata": {},
   "outputs": [
    {
     "data": {
      "text/plain": [
       "([<matplotlib.axis.XTick at 0x160b6f09b50>,\n",
       "  <matplotlib.axis.XTick at 0x160b99a9ad0>],\n",
       " [Text(0, 0, 'Pixel'), Text(1, 0, 'S23')])"
      ]
     },
     "execution_count": 20,
     "metadata": {},
     "output_type": "execute_result"
    },
    {
     "data": {
      "image/png": "[encoded data removed]",
      "text/plain": [
       "<Figure size 1300x1000 with 1 Axes>"
      ]
     },
     "metadata": {},
     "output_type": "display_data"
    }
   ],
   "source": [
    "x = np.arange(2)\n",
    "# ['Pixel 7a','S23]\n",
    "airplane = combined_battery['Airplane YT']\n",
    "display = combined_battery['Airplane YT']-combined_battery['Airplane']\n",
    "wifi_yt = combined_battery['Wifi YT']-combined_battery['Airplane YT']\n",
    "lte_yt = combined_battery['LTE YT']-combined_battery['Airplane YT']\n",
    "yt_5g= combined_battery['5g YT']-combined_battery['Airplane YT']\n",
    "\n",
    "width = 0.25/2\n",
    "#wifi\n",
    "plt.bar(x-width,airplane,width,color='lightblue',edgecolor='k',label = 'Others') \n",
    "plt.bar(x-width,display,width,color='blue',edgecolor='k',label ='Display')\n",
    "plt.bar(x-width,wifi_yt,width,bottom=airplane,color='salmon',label='Wifi Youtube Modem+RFE',edgecolor='k')\n",
    "\n",
    "#4g\n",
    "plt.bar(x,airplane,width,color='lightblue',edgecolor='k') \n",
    "plt.bar(x,display,width,color='blue',edgecolor='k')\n",
    "plt.bar(x,lte_yt,width,bottom=airplane,color='cyan',label='4g Youtube Modem+RFE',edgecolor='k')\n",
    "# plt.bar(x,lte,width,bottom=airplane,color='cyan',label='Standby',edgecolor='k')\n",
    "\n",
    "#5g\n",
    "plt.bar(x+width,airplane,width,color='lightblue',edgecolor='k')\n",
    "plt.bar(x+width,display,width,color='blue',edgecolor='k')\n",
    "plt.bar(x+width,yt_5g,width,bottom=airplane,color='lavender',label='5g Youtube Modem+RFE',edgecolor='k')\n",
    "plt.legend()\n",
    "plt.xticks(x,['Pixel','S23'])"
   ]
  },
  {
   "cell_type": "code",
   "execution_count": null,
   "id": "0474b0f5",
   "metadata": {},
   "outputs": [],
   "source": [
    "from perfetto.trace_processor import TraceProcessor\n",
    "import numpy as np\n",
    "import matplotlib.pyplot as plt\n",
    "import plotly.graph_objects as go\n",
    "from plotly.subplots import make_subplots\n",
    "import pandas as pd\n",
    "\n",
    "# Initialise TraceProcessor with a trace file\n",
    "color_list = ['blue','cyan','teal','red','pink','salmon']\n",
    "line_list = ['-','-','-','-','-','-','-','-','-','-','-','-','-']\n",
    "enable_legend = True\n",
    "\n",
    "num_exps = 3\n",
    "battery = []\n",
    "col_list = ['Airplane','Airplane YT','Wifi YT','LTE YT','5g YT']\n",
    "#             'Airplane','Standby',Wifi_Youtube','5G_Youtube','Wifi_iperf1M_UL','5G_Iperf1M_UL']\n",
    "# col_list = ['Airplane','Standby','Iperf1M']\n",
    "battery_pwr_data_s23 = pd.DataFrame(index=range(num_exps), columns=col_list)\n",
    "battery_pwr_data_pxl = pd.DataFrame(index=range(num_exps), columns=col_list)\n",
    "delta_battery_s23 =[]\n",
    "delta_battery_pxl =[]\n",
    "battery_pwr_s23 = []\n",
    "battery_pwr_pxl = []\n",
    "modem_pwr_pxl = []\n",
    "display_pwr_pxl = []\n",
    "rfe_pwr_pxl = []\n",
    "for exp in range(0,num_exps):\n",
    "    df_list_cleaned = []\n",
    "    tp_list= []\n",
    "    print(exp)\n",
    "    tp_list.append(TraceProcessor(trace='./Perfetto_traces/s23/s23_airp_2min_0'+str(exp) +'.perfetto-trace')) #10-15 dBm\n",
    "    tp_list.append(TraceProcessor(trace='./Perfetto_traces/s23/s23_airp_YT_50_1min_'+str(exp) +'.perfetto-trace')) #10-15 dBm\n",
    "    tp_list.append(TraceProcessor(trace='./Perfetto_traces/s23/s23_wifi_YT_50_1min_'+str(exp)+'.perfetto-trace')) #10-15 dBm\n",
    "    tp_list.append(TraceProcessor(trace='./Perfetto_traces/s23/s23_LTE_youtube_halfB_2min_'+str(exp)+'.perfetto-trace')) #10-15 dBm\n",
    "    tp_list.append(TraceProcessor(trace='./Perfetto_traces/s23/s23_ytube_720p_2min_'+str(exp)+'.perfetto-trace')) #10-15 dBm\n",
    "    num_tps = len(tp_list)\n",
    "    id_mapper = list(range(1,5))\n",
    "    df_list_cleaned = [[tp.query('SELECT ts,value FROM counter WHERE track_id='+str(i)+'')\n",
    "                   .as_pandas_dataframe().replace(np.nan,0)\n",
    "                   .values.tolist() for i in id_mapper] for tp in tp_list]\n",
    "    scale =1000\n",
    "    outputs = get_powers(num_tps,df_list_cleaned,scale)\n",
    "    delta_battery_s23.append(outputs[0])\n",
    "    battery_pwr_s23.append(outputs[2])\n",
    "    battery_pwr_data_s23.iloc[exp,:] = outputs[2]\n",
    "    \n",
    "    \n",
    "    df_list_cleaned = []\n",
    "    tp_list= []\n",
    "    print(exp)\n",
    "    tp_list.append(TraceProcessor(trace='./Perfetto_traces/pxl/5_4_no_charge_airplane_'+str(exp)+'.perfetto-trace')) #10-15 dBm\n",
    "    tp_list.append(TraceProcessor(trace='./Perfetto_traces/pxl/pxl_airp_YT_50_1min_'+str(exp)+'.perfetto-trace')) #10-15 dBm\n",
    "    tp_list.append(TraceProcessor(trace='./Perfetto_traces/pxl/pxl_wifi_YT_50_1min_'+str(exp)+'.perfetto-trace')) #10-15 dBm\n",
    "    tp_list.append(TraceProcessor(trace='./Perfetto_traces/pxl/pxl_LTE_YT_50_2min_'+str(exp)+'.perfetto-trace')) #10-15 dBm\n",
    "    tp_list.append(TraceProcessor(trace='./Perfetto_traces/pxl/pxl_5G_YT_50_2min_'+str(exp)+'.perfetto-trace')) #10-15 dBm\n",
    "    num_tps = len(tp_list)\n",
    "    id_mapper = [27]+list(range(1,25))\n",
    "    df_list_cleaned = [[tp.query('SELECT ts,value FROM counter WHERE track_id='+str(i)+'')\n",
    "                   .as_pandas_dataframe().replace(np.nan,0)\n",
    "                   .values.tolist() for i in id_mapper] for tp in tp_list]\n",
    "    scale=1\n",
    "    outputs = get_powers_pixel(num_tps,df_list_cleaned)\n",
    "    delta_battery_pxl.append(outputs[0])\n",
    "    battery_pwr_pxl.append(outputs[1])\n",
    "    modem_pwr_pxl.append(outputs[2])\n",
    "    rfe_pwr_pxl.append(outputs[3])\n",
    "    display_pwr_pxl.append(outputs[4])\n",
    "    battery_pwr_data_pxl.iloc[exp,:] = outputs[1]\n",
    "\n",
    "#     print(battery) #battery stores standby-airplane (output for each iteration) for different experiments\n"
   ]
  },
  {
   "cell_type": "code",
   "execution_count": null,
   "id": "03dc08dd",
   "metadata": {},
   "outputs": [],
   "source": [
    "combined_battery  = pd.DataFrame(np.mean(battery_pwr_data_pxl,0)).T\n",
    "combined_battery.loc[-1] = pd.Series(np.mean(battery_pwr_data_s23,0))\n",
    "combined_battery.set_axis(['Pixel','S23'])\n"
   ]
  },
  {
   "cell_type": "code",
   "execution_count": null,
   "id": "31e03038",
   "metadata": {},
   "outputs": [],
   "source": [
    "x = np.arange(2)\n",
    "# ['Pixel 7a','S23]\n",
    "airplane = combined_battery['Airplane YT']\n",
    "display = combined_battery['Airplane YT']-combined_battery['Airplane']\n",
    "wifi_yt = combined_battery['Wifi YT']-combined_battery['Airplane YT']\n",
    "lte_yt = combined_battery['LTE YT']-combined_battery['Airplane YT']\n",
    "yt_5g= combined_battery['5g YT']-combined_battery['Airplane YT']\n",
    "\n",
    "width = 0.25/2\n",
    "#wifi\n",
    "plt.bar(x-width,airplane,width,color='lightblue',edgecolor='k',label = 'Others') \n",
    "plt.bar(x-width,display,width,color='blue',edgecolor='k',label ='Display')\n",
    "plt.bar(x-width,wifi_yt,width,bottom=airplane,color='salmon',label='Wifi Youtube Modem+RFE',edgecolor='k')\n",
    "\n",
    "#4g\n",
    "plt.bar(x,airplane,width,color='lightblue',edgecolor='k') \n",
    "plt.bar(x,display,width,color='blue',edgecolor='k')\n",
    "plt.bar(x,lte_yt,width,bottom=airplane,color='cyan',label='4g Youtube Modem+RFE',edgecolor='k')\n",
    "# plt.bar(x,lte,width,bottom=airplane,color='cyan',label='Standby',edgecolor='k')\n",
    "\n",
    "#5g\n",
    "plt.bar(x+width,airplane,width,color='lightblue',edgecolor='k')\n",
    "plt.bar(x+width,display,width,color='blue',edgecolor='k')\n",
    "plt.bar(x+width,yt_5g,width,bottom=airplane,color='lavender',label='5g Youtube Modem+RFE',edgecolor='k')\n",
    "plt.legend()\n",
    "plt.xticks(x,['Pixel','S23'])"
   ]
  },
  {
   "cell_type": "code",
   "execution_count": null,
   "id": "b9ea23ea",
   "metadata": {},
   "outputs": [],
   "source": [
    "num_traces = 2 #stdby nd youtube\n",
    "ind =  np.arange(num_traces)   \n",
    "width = 0.35 \n",
    "\n",
    "pxl_legend = ['Modem','RFE','Display','Total ']\n",
    "\n",
    "fig = plt.figure(figsize =(16,9))\n",
    "# reduced_pow_mat[3,1] = 1.1*reduced_pow_mat[4,1]\n",
    "pxl_list=[]\n",
    "for i in range(7):\n",
    "    if(i==0):\n",
    "        pxl_list.append(plt.bar(ind, pxl_pwrs[:,i], width))\n",
    "    else:\n",
    "#         print(i)\n",
    "#         print(reduced_pow_mat[:,0:i-1])\n",
    "#         print(np.sum(reduced_pow_mat[:,0:i-1],1))\n",
    "        p_list.append(plt.bar(ind, reduced_pow_mat[:,i], width, bottom = np.sum(reduced_pow_mat[:,0:i],1)))\n",
    "plt.ylabel('Avg. Power Consumption compued over 30 sec (mW)',fontsize=16)\n",
    "\n",
    "# plt.xticks(ind, ('Youtube', 'Video Call','Instagram','PokemonGo','Standby'),fontsize=16)\n",
    "# plt.xticks(ind, ('Youtube', 'Video Call','Instagram','PokemonGo','Standby', 'iPerf 5Mbps'),fontsize=16)\n",
    "# plt.xticks(ind, ('Youtube Trial 1, 5G', 'Youtube Trial 2, 5G', 'Youtube Trial 3 5G',\n",
    "#                  'Youtube Trial 1, Wi-Fi', 'Youtube Trial 2, Wi-Fi', 'Youtube Trial 3 Wi-Fi',),fontsize=16)\n",
    "# plt.xticks(ind, ('Video Call Trial 1, 5G', 'Video Call Trial 2, 5G', 'Video Call Trial 3 5G',\n",
    "#                  'Video Call Trial 1, Wi-Fi', 'Video Call Trial 2, Wi-Fi', 'Video Call Trial 3 Wi-Fi',),fontsize=16)\n",
    "# plt.xticks(ind, ('5G Far', '5G Medium', '5G Close', '4G Far', '4G Medium', '4G Close'),fontsize=16)\n",
    "# plt.xticks(ind, ('Red Location (500m)', 'Orange Location (300m)', 'Green Location (100m)'),fontsize=16)\n",
    "# plt.xticks(ind, ('4G Far', '4G Medium', '4G Close'),fontsize=16)\n",
    "# plt.xticks(ind, ('Wifi 1Mbps', 'Cellular 1Mbps', 'Wifi 10Mbps','Cellular 10Mbps','Wifi Youtube 1080p','Cellular Youtube 1080p'),fontsize=16)\n",
    "plt.xticks(ind, ('Wifi 1Mbps', 'Wifi 10Mbps','Wifi 100Mbps'),fontsize=16)\n",
    "# plt.yticks(np.arange(0, 81, 10))\n",
    "# cell_pow,cpu_pow,mem_pow,display_pow,LLDO_pow,sensor_pow,wifi_pow,other_pow\n",
    "# print(reduced_pow_mat[:,3])\n",
    "total_pow = np.sum(reduced_pow_mat,1)\n",
    "# plt.legend(p_list, ('Cellular','CPU','Memory','Display','LDO','Sensor','WiFi','Others'))\n",
    "# plt.legend(p_list, ('Cellular','Compute','Memory','Display','Others'),fontsize=14)\n",
    "plt.legend(p_list, ('Cellular','Compute','Memory','Display','Camera', 'Wi-Fi','Others'),fontsize=14)\n",
    "# plt.title('Ratio vs #femto BS')\n",
    "plt.grid(visible=True,which='major',color='k', linestyle=':', linewidth=1, alpha=0.5)\n",
    "plt.grid(visible=True,which='minor',color='k', linestyle=':', linewidth=1, alpha=0.1)\n",
    "plt.minorticks_on()\n",
    "plt.xticks(fontsize=14)\n",
    "plt.yticks(fontsize=14)\n",
    "# plt.legend(fontsize=10)\n",
    "print(total_pow[0]/total_pow[1])\n",
    "plt.savefig(\"./barplot_energy.pdf\")\n",
    "plt.show()"
   ]
  },
  {
   "cell_type": "code",
   "execution_count": 281,
   "id": "39fd59b6",
   "metadata": {},
   "outputs": [
    {
     "data": {
      "text/plain": [
       "<matplotlib.legend.Legend at 0x1edc5564310>"
      ]
     },
     "execution_count": 281,
     "metadata": {},
     "output_type": "execute_result"
    },
    {
     "data": {
      "image/png": "[encoded data removed]",
      "text/plain": [
       "<Figure size 1300x1000 with 1 Axes>"
      ]
     },
     "metadata": {},
     "output_type": "display_data"
    }
   ],
   "source": [
    "x = np.arange(2)\n",
    "# ['Pixel 7a','S23]\n",
    "airplane = combined_battery['Airplane Full Brightness']\n",
    "lte = combined_battery['LTE YT']-combined_battery['Airplane Full Brightness']\n",
    "fg= combined_battery['5g YT']-combined_battery['Airplane Full Brightness']\n",
    "\n",
    "width = 0.25\n",
    "plt.bar(x,airplane,width,color='lightblue',edgecolor='k')\n",
    "plt.bar(x,lte,width,bottom=airplane,color='cyan',label='Youtube LTE',edgecolor='k')\n",
    "# plt.bar(x,lte,width,bottom=airplane,color='cyan',label='Standby',edgecolor='k')\n",
    "\n",
    "plt.bar(x+width,airplane,width,color='lightblue',edgecolor='k')\n",
    "plt.bar(x+width,fg,width,bottom=airplane,color='lavender',label='Youtube 5g',edgecolor='k')\n",
    "plt.legend()\n"
   ]
  },
  {
   "cell_type": "code",
   "execution_count": 185,
   "id": "ae9f76f5",
   "metadata": {
    "scrolled": false
   },
   "outputs": [
    {
     "data": {
      "text/html": [
       "<div>\n",
       "<style scoped>\n",
       "    .dataframe tbody tr th:only-of-type {\n",
       "        vertical-align: middle;\n",
       "    }\n",
       "\n",
       "    .dataframe tbody tr th {\n",
       "        vertical-align: top;\n",
       "    }\n",
       "\n",
       "    .dataframe thead th {\n",
       "        text-align: right;\n",
       "    }\n",
       "</style>\n",
       "<table border=\"1\" class=\"dataframe\">\n",
       "  <thead>\n",
       "    <tr style=\"text-align: right;\">\n",
       "      <th></th>\n",
       "      <th>Airplane</th>\n",
       "      <th>Airplane Full Brightness</th>\n",
       "      <th>Standby</th>\n",
       "      <th>Wifi_Youtube</th>\n",
       "      <th>5G_Youtube</th>\n",
       "      <th>Wifi_iperf1M_UL</th>\n",
       "      <th>5G_Iperf1M_UL</th>\n",
       "    </tr>\n",
       "  </thead>\n",
       "  <tbody>\n",
       "    <tr>\n",
       "      <th>0</th>\n",
       "      <td>582.213152</td>\n",
       "      <td>713.62881</td>\n",
       "      <td>1163.028184</td>\n",
       "      <td>1201.789353</td>\n",
       "      <td>1330.643333</td>\n",
       "      <td>2184.931106</td>\n",
       "      <td>4343.151148</td>\n",
       "    </tr>\n",
       "    <tr>\n",
       "      <th>1</th>\n",
       "      <td>597.291232</td>\n",
       "      <td>790.224217</td>\n",
       "      <td>1181.180585</td>\n",
       "      <td>1029.496033</td>\n",
       "      <td>1139.26785</td>\n",
       "      <td>2157.517119</td>\n",
       "      <td>3440.675574</td>\n",
       "    </tr>\n",
       "    <tr>\n",
       "      <th>2</th>\n",
       "      <td>577.864301</td>\n",
       "      <td>836.13048</td>\n",
       "      <td>1158.262213</td>\n",
       "      <td>962.13904</td>\n",
       "      <td>1301.102296</td>\n",
       "      <td>2092.153027</td>\n",
       "      <td>4054.195825</td>\n",
       "    </tr>\n",
       "  </tbody>\n",
       "</table>\n",
       "</div>"
      ],
      "text/plain": [
       "     Airplane Airplane Full Brightness      Standby Wifi_Youtube   5G_Youtube  \\\n",
       "0  582.213152                713.62881  1163.028184  1201.789353  1330.643333   \n",
       "1  597.291232               790.224217  1181.180585  1029.496033   1139.26785   \n",
       "2  577.864301                836.13048  1158.262213    962.13904  1301.102296   \n",
       "\n",
       "  Wifi_iperf1M_UL 5G_Iperf1M_UL  \n",
       "0     2184.931106   4343.151148  \n",
       "1     2157.517119   3440.675574  \n",
       "2     2092.153027   4054.195825  "
      ]
     },
     "execution_count": 185,
     "metadata": {},
     "output_type": "execute_result"
    }
   ],
   "source": [
    "battery_pwr_data_s23"
   ]
  },
  {
   "cell_type": "code",
   "execution_count": 192,
   "id": "f47da8e9",
   "metadata": {
    "scrolled": false
   },
   "outputs": [
    {
     "data": {
      "text/html": [
       "<div>\n",
       "<style scoped>\n",
       "    .dataframe tbody tr th:only-of-type {\n",
       "        vertical-align: middle;\n",
       "    }\n",
       "\n",
       "    .dataframe tbody tr th {\n",
       "        vertical-align: top;\n",
       "    }\n",
       "\n",
       "    .dataframe thead th {\n",
       "        text-align: right;\n",
       "    }\n",
       "</style>\n",
       "<table border=\"1\" class=\"dataframe\">\n",
       "  <thead>\n",
       "    <tr style=\"text-align: right;\">\n",
       "      <th></th>\n",
       "      <th>Standby</th>\n",
       "      <th>5G_Iperf1M_UL</th>\n",
       "      <th>5G_Youtube</th>\n",
       "      <th>Wifi_iperf1M_UL</th>\n",
       "      <th>Wifi_Youtube</th>\n",
       "    </tr>\n",
       "  </thead>\n",
       "  <tbody>\n",
       "    <tr>\n",
       "      <th>0</th>\n",
       "      <td>580.815031</td>\n",
       "      <td>3760.937996</td>\n",
       "      <td>748.430181</td>\n",
       "      <td>1602.717954</td>\n",
       "      <td>619.5762</td>\n",
       "    </tr>\n",
       "    <tr>\n",
       "      <th>1</th>\n",
       "      <td>583.889353</td>\n",
       "      <td>2843.384342</td>\n",
       "      <td>541.976618</td>\n",
       "      <td>1560.225887</td>\n",
       "      <td>432.204802</td>\n",
       "    </tr>\n",
       "    <tr>\n",
       "      <th>2</th>\n",
       "      <td>580.397912</td>\n",
       "      <td>3476.331524</td>\n",
       "      <td>723.237996</td>\n",
       "      <td>1514.288727</td>\n",
       "      <td>384.274739</td>\n",
       "    </tr>\n",
       "  </tbody>\n",
       "</table>\n",
       "</div>"
      ],
      "text/plain": [
       "      Standby 5G_Iperf1M_UL  5G_Youtube Wifi_iperf1M_UL Wifi_Youtube\n",
       "0  580.815031   3760.937996  748.430181     1602.717954     619.5762\n",
       "1  583.889353   2843.384342  541.976618     1560.225887   432.204802\n",
       "2  580.397912   3476.331524  723.237996     1514.288727   384.274739"
      ]
     },
     "execution_count": 192,
     "metadata": {},
     "output_type": "execute_result"
    }
   ],
   "source": [
    "battery_diff_s23 = pd.DataFrame()\n",
    "#                             ,'Youtube','Wifi_iperf1M','Wifi_youtube'])\n",
    "battery_diff_s23['Standby'] = battery_pwr_data_pxl.Standby-battery_pwr_data_pxl.Airplane\n",
    "battery_diff_s23['5G_Iperf1M_UL'] = battery_pwr_data_pxl['5G_Iperf1M_UL']-battery_pwr_data_pxl.Airplane\n",
    "battery_diff_s23['5G_Youtube'] = battery_pwr_data_pxl['5G_Youtube']-battery_pwr_data_pxl.Airplane\n",
    "battery_diff_s23['Wifi_iperf1M_UL'] = battery_pwr_data_pxl['Wifi_iperf1M_UL']-battery_pwr_data_pxl.Airplane\n",
    "battery_diff_s23['Wifi_Youtube'] = battery_pwr_data_pxl['Wifi_Youtube']-battery_pwr_data_pxl.Airplane\n",
    "battery_diff_s23"
   ]
  },
  {
   "cell_type": "code",
   "execution_count": null,
   "id": "873c813f",
   "metadata": {},
   "outputs": [],
   "source": [
    "battery_diff_pxl = pd.DataFrame()\n",
    "#                             ,'Youtube','Wifi_iperf1M','Wifi_youtube'])\n",
    "battery_diff_pxl['Standby'] = battery_pwr_data_s23.Standby-battery_pwr_data_s23.Airplane\n",
    "battery_diff_pxl['5G_Iperf1M_UL'] = battery_pwr_data_s23['5G_Iperf1M_UL']-battery_pwr_data_s23.Airplane\n",
    "battery_diff_pxl['5G_Youtube'] = battery_pwr_data_s23['5G_Youtube']-battery_pwr_data_s23.Airplane\n",
    "battery_diff_pxl['Wifi_iperf1M_UL'] = battery_pwr_data_s23['Wifi_iperf1M_UL']-battery_pwr_data_s23.Airplane\n",
    "battery_diff_pxl['Wifi_Youtube'] = battery_pwr_data_s23['Wifi_Youtube']-battery_pwr_data_s23.Airplane\n",
    "battery_diff_pxl"
   ]
  },
  {
   "cell_type": "code",
   "execution_count": 166,
   "id": "e612c9c5",
   "metadata": {},
   "outputs": [
    {
     "data": {
      "image/png": "[encoded data removed]",
      "text/plain": [
       "<Figure size 1300x1000 with 1 Axes>"
      ]
     },
     "metadata": {},
     "output_type": "display_data"
    }
   ],
   "source": [
    "battery_diff_avg = np.array(np.mean(battery_diff_s23,0))\n",
    "plt.rcParams['figure.figsize'] = [13, 10]\n",
    "plt.errorbar(range(num_tps-2),battery_diff_avg,color='blue',yerr = np.array(np.std(battery_diff,0)),linestyle='-',label = 'Power from Battery counters')\n",
    "plt.title('Avg Power differences for Samsung') \n",
    "plt.xlabel('Experiments')\n",
    "plt.ylabel('Power(mW)')\n",
    "plt.xticks(range(num_tps-2),col_list[2:])\n",
    "plt.grid(visible=True,which='major',color='k', linestyle=':', linewidth=1, alpha=0.5)\n",
    "plt.grid(visible=True,which='minor',color='k', linestyle=':', linewidth=1, alpha=0.1)\n",
    "# plt.ylim([300,800])"
   ]
  },
  {
   "cell_type": "code",
   "execution_count": 168,
   "id": "fe95c19b",
   "metadata": {
    "scrolled": true
   },
   "outputs": [
    {
     "data": {
      "text/html": [
       "<div>\n",
       "<style scoped>\n",
       "    .dataframe tbody tr th:only-of-type {\n",
       "        vertical-align: middle;\n",
       "    }\n",
       "\n",
       "    .dataframe tbody tr th {\n",
       "        vertical-align: top;\n",
       "    }\n",
       "\n",
       "    .dataframe thead th {\n",
       "        text-align: right;\n",
       "    }\n",
       "</style>\n",
       "<table border=\"1\" class=\"dataframe\">\n",
       "  <thead>\n",
       "    <tr style=\"text-align: right;\">\n",
       "      <th></th>\n",
       "      <th>Standby</th>\n",
       "      <th>Wifi_Youtube</th>\n",
       "      <th>5G_Youtube</th>\n",
       "      <th>Wifi_iperf1M_UL</th>\n",
       "      <th>5G_Iperf1M_UL</th>\n",
       "    </tr>\n",
       "  </thead>\n",
       "  <tbody>\n",
       "    <tr>\n",
       "      <th>0</th>\n",
       "      <td>0.184151</td>\n",
       "      <td>0.515545</td>\n",
       "      <td>0.562457</td>\n",
       "      <td>0.733532</td>\n",
       "      <td>0.865947</td>\n",
       "    </tr>\n",
       "    <tr>\n",
       "      <th>1</th>\n",
       "      <td>0.24415</td>\n",
       "      <td>0.419822</td>\n",
       "      <td>0.475724</td>\n",
       "      <td>0.723158</td>\n",
       "      <td>0.826403</td>\n",
       "    </tr>\n",
       "    <tr>\n",
       "      <th>2</th>\n",
       "      <td>0.308883</td>\n",
       "      <td>0.399396</td>\n",
       "      <td>0.555866</td>\n",
       "      <td>0.723794</td>\n",
       "      <td>0.857465</td>\n",
       "    </tr>\n",
       "  </tbody>\n",
       "</table>\n",
       "</div>"
      ],
      "text/plain": [
       "    Standby Wifi_Youtube 5G_Youtube Wifi_iperf1M_UL 5G_Iperf1M_UL\n",
       "0  0.184151     0.515545   0.562457        0.733532      0.865947\n",
       "1   0.24415     0.419822   0.475724        0.723158      0.826403\n",
       "2  0.308883     0.399396   0.555866        0.723794      0.857465"
      ]
     },
     "execution_count": 168,
     "metadata": {},
     "output_type": "execute_result"
    }
   ],
   "source": [
    "battery_ratios = battery_diff.reset_index(drop=True)/battery_current_all.iloc[:,2:].reset_index(drop=True)\n",
    "battery_ratios"
   ]
  },
  {
   "cell_type": "code",
   "execution_count": 171,
   "id": "e8aa5485",
   "metadata": {},
   "outputs": [
    {
     "data": {
      "image/png": "[encoded data removed]",
      "text/plain": [
       "<Figure size 1300x1000 with 1 Axes>"
      ]
     },
     "metadata": {},
     "output_type": "display_data"
    }
   ],
   "source": [
    "battery_ratio_avg = np.array(np.mean(battery_ratios,0))\n",
    "plt.rcParams['figure.figsize'] = [13, 10]\n",
    "plt.errorbar(range(num_tps-2),battery_ratio_avg,color='blue',yerr = np.array(np.std(battery_ratios,0)),linestyle='-',label = 'Power from Battery counters')\n",
    "plt.title('Avg Power ratios for Samsung') \n",
    "plt.xlabel('Experiments')\n",
    "plt.ylabel('Power(mW)')\n",
    "plt.xticks(range(num_tps-2),col_list[2:])\n",
    "plt.grid(visible=True,which='major',color='k', linestyle=':', linewidth=1, alpha=0.5)\n",
    "plt.grid(visible=True,which='minor',color='k', linestyle=':', linewidth=1, alpha=0.1)\n",
    "# plt.ylim([300,800])"
   ]
  },
  {
   "cell_type": "code",
   "execution_count": 84,
   "id": "f951ae73",
   "metadata": {},
   "outputs": [
    {
     "data": {
      "text/plain": [
       "[582.213152400835, 597.2912317327766, 577.8643006263048]"
      ]
     },
     "metadata": {},
     "output_type": "display_data"
    }
   ],
   "source": [
    "airplane = [np.mean(battery[0][2][0]),np.mean(battery[1][2][0]),np.mean(battery[2][2][0])]\n",
    "display(airplane)"
   ]
  },
  {
   "cell_type": "code",
   "execution_count": 85,
   "id": "54cf3ec2",
   "metadata": {},
   "outputs": [],
   "source": [
    "ratios = [battery[0][0]/np.mean(battery[0][2][1]),battery[1][0]/np.mean(battery[1][2][1]),battery[2][0]/np.mean(battery[2][2][1])]"
   ]
  },
  {
   "cell_type": "code",
   "execution_count": 86,
   "id": "6ff90577",
   "metadata": {},
   "outputs": [
    {
     "data": {
      "text/plain": [
       "[1163.028183716075, 1181.1805845511483, 1158.2622129436327]"
      ]
     },
     "metadata": {},
     "output_type": "display_data"
    }
   ],
   "source": [
    "standby = [np.mean(battery[0][2][1]),np.mean(battery[1][2][1]),np.mean(battery[2][2][1])]\n",
    "display(standby)"
   ]
  },
  {
   "cell_type": "code",
   "execution_count": null,
   "id": "229244e7",
   "metadata": {},
   "outputs": [],
   "source": []
  },
  {
   "cell_type": "code",
   "execution_count": 149,
   "id": "a4bd19ba",
   "metadata": {},
   "outputs": [
    {
     "ename": "IndexError",
     "evalue": "invalid index to scalar variable.",
     "output_type": "error",
     "traceback": [
      "\u001b[1;31m---------------------------------------------------------------------------\u001b[0m",
      "\u001b[1;31mIndexError\u001b[0m                                Traceback (most recent call last)",
      "Cell \u001b[1;32mIn[149], line 5\u001b[0m\n\u001b[0;32m      3\u001b[0m battery_avg \u001b[38;5;241m=\u001b[39m [\u001b[38;5;241m0\u001b[39m,\u001b[38;5;241m0\u001b[39m]\n\u001b[0;32m      4\u001b[0m \u001b[38;5;28;01mfor\u001b[39;00m i \u001b[38;5;129;01min\u001b[39;00m \u001b[38;5;28mrange\u001b[39m(num_exps):\n\u001b[1;32m----> 5\u001b[0m     battery_avg[\u001b[38;5;241m0\u001b[39m] \u001b[38;5;241m=\u001b[39m battery_avg[\u001b[38;5;241m0\u001b[39m] \u001b[38;5;241m+\u001b[39m battery[i][\u001b[38;5;241m0\u001b[39m][\u001b[38;5;241m1\u001b[39m]\n\u001b[0;32m      6\u001b[0m \u001b[38;5;66;03m#     battery_avg[1] = battery_avg[1] + battery[i][1][1]\u001b[39;00m\n\u001b[0;32m      7\u001b[0m \u001b[38;5;66;03m# battery_avg = battery_avg/num_exps\u001b[39;00m\n\u001b[0;32m      9\u001b[0m plt\u001b[38;5;241m.\u001b[39mplot([\u001b[38;5;241m0\u001b[39m,\u001b[38;5;241m120\u001b[39m],[battery_avg,battery_avg])\n",
      "\u001b[1;31mIndexError\u001b[0m: invalid index to scalar variable."
     ]
    }
   ],
   "source": [
    "legend_list = ['Standby','Iperf1M','Iperf5M','Iperf10M','Iperf50M']\n",
    "plt.rcParams['figure.figsize'] = [13, 10]\n",
    "battery_avg = [0,0]\n",
    "for i in range(num_exps):\n",
    "    battery_avg[0] = battery_avg[0] + battery[i][0][1]\n",
    "#     battery_avg[1] = battery_avg[1] + battery[i][1][1]\n",
    "# battery_avg = battery_avg/num_exps\n",
    "\n",
    "plt.plot([0,120],[battery_avg,battery_avg])\n",
    "# plt.plot(np.mean(pct_battery,0)[0:-1],color='blue',linestyle='-',marker='o',label = '% in Battery power')\n",
    "# plt.errorbar(range(5),battery_avg,yerr=np.std(battery,1),color='blue')\n",
    "# plt.plot(np.mean(pct_cell,0)[0:-1],color='purple',linestyle='-',marker='>',label='% in Total ODPM')\n",
    "# plt.errorbar(range(5),odpm_total_avg,yerr=np.std(odpm_total,1),color='purple')\n",
    "\n",
    "# plt.errorbar(range(5),battery_avg,yerr=np.std(battery,1),color='blue')\n",
    "# plt.plot(modem_avg,color='green',linestyle='-',marker='x',label='Modem Power')\n",
    "# plt.legend()\n",
    "# plt.title('% Modem + RFE in Total ODPM and Total Battery consumption') \n",
    "# plt.xlabel('Experiment')\n",
    "# plt.ylabel('Ratio')\n",
    "# plt.xticks(range(0,4),legend_list[0:-1])\n",
    "# plt.grid(visible=True,which='major',color='k', linestyle=':', linewidth=1, alpha=0.5)\n",
    "# plt.grid(visible=True,which='minor',color='k', linestyle=':', linewidth=1, alpha=0.1)\n",
    "# plt.ylim([0,1])"
   ]
  },
  {
   "cell_type": "code",
   "execution_count": 150,
   "id": "51e1466a",
   "metadata": {},
   "outputs": [
    {
     "ename": "ValueError",
     "evalue": "setting an array element with a sequence. The requested array has an inhomogeneous shape after 2 dimensions. The detected shape was (2, 3) + inhomogeneous part.",
     "output_type": "error",
     "traceback": [
      "\u001b[1;31m---------------------------------------------------------------------------\u001b[0m",
      "\u001b[1;31mValueError\u001b[0m                                Traceback (most recent call last)",
      "Cell \u001b[1;32mIn[150], line 1\u001b[0m\n\u001b[1;32m----> 1\u001b[0m battery_avg \u001b[38;5;241m=\u001b[39m np\u001b[38;5;241m.\u001b[39mmean(battery[\u001b[38;5;241m0\u001b[39m:\u001b[38;5;241m-\u001b[39m\u001b[38;5;241m1\u001b[39m],\u001b[38;5;241m1\u001b[39m)\n\u001b[0;32m      2\u001b[0m odpm_total_avg \u001b[38;5;241m=\u001b[39m np\u001b[38;5;241m.\u001b[39mmean(odpm_total[\u001b[38;5;241m0\u001b[39m:\u001b[38;5;241m-\u001b[39m\u001b[38;5;241m1\u001b[39m],\u001b[38;5;241m1\u001b[39m)\n\u001b[0;32m      3\u001b[0m error \u001b[38;5;241m=\u001b[39m odpm_total_avg\u001b[38;5;241m-\u001b[39mbattery_avg\n",
      "File \u001b[1;32m<__array_function__ internals>:200\u001b[0m, in \u001b[0;36mmean\u001b[1;34m(*args, **kwargs)\u001b[0m\n",
      "File \u001b[1;32m~\\anaconda3\\Lib\\site-packages\\numpy\\core\\fromnumeric.py:3464\u001b[0m, in \u001b[0;36mmean\u001b[1;34m(a, axis, dtype, out, keepdims, where)\u001b[0m\n\u001b[0;32m   3461\u001b[0m     \u001b[38;5;28;01melse\u001b[39;00m:\n\u001b[0;32m   3462\u001b[0m         \u001b[38;5;28;01mreturn\u001b[39;00m mean(axis\u001b[38;5;241m=\u001b[39maxis, dtype\u001b[38;5;241m=\u001b[39mdtype, out\u001b[38;5;241m=\u001b[39mout, \u001b[38;5;241m*\u001b[39m\u001b[38;5;241m*\u001b[39mkwargs)\n\u001b[1;32m-> 3464\u001b[0m \u001b[38;5;28;01mreturn\u001b[39;00m _methods\u001b[38;5;241m.\u001b[39m_mean(a, axis\u001b[38;5;241m=\u001b[39maxis, dtype\u001b[38;5;241m=\u001b[39mdtype,\n\u001b[0;32m   3465\u001b[0m                       out\u001b[38;5;241m=\u001b[39mout, \u001b[38;5;241m*\u001b[39m\u001b[38;5;241m*\u001b[39mkwargs)\n",
      "File \u001b[1;32m~\\anaconda3\\Lib\\site-packages\\numpy\\core\\_methods.py:165\u001b[0m, in \u001b[0;36m_mean\u001b[1;34m(a, axis, dtype, out, keepdims, where)\u001b[0m\n\u001b[0;32m    164\u001b[0m \u001b[38;5;28;01mdef\u001b[39;00m \u001b[38;5;21m_mean\u001b[39m(a, axis\u001b[38;5;241m=\u001b[39m\u001b[38;5;28;01mNone\u001b[39;00m, dtype\u001b[38;5;241m=\u001b[39m\u001b[38;5;28;01mNone\u001b[39;00m, out\u001b[38;5;241m=\u001b[39m\u001b[38;5;28;01mNone\u001b[39;00m, keepdims\u001b[38;5;241m=\u001b[39m\u001b[38;5;28;01mFalse\u001b[39;00m, \u001b[38;5;241m*\u001b[39m, where\u001b[38;5;241m=\u001b[39m\u001b[38;5;28;01mTrue\u001b[39;00m):\n\u001b[1;32m--> 165\u001b[0m     arr \u001b[38;5;241m=\u001b[39m asanyarray(a)\n\u001b[0;32m    167\u001b[0m     is_float16_result \u001b[38;5;241m=\u001b[39m \u001b[38;5;28;01mFalse\u001b[39;00m\n\u001b[0;32m    169\u001b[0m     rcount \u001b[38;5;241m=\u001b[39m _count_reduce_items(arr, axis, keepdims\u001b[38;5;241m=\u001b[39mkeepdims, where\u001b[38;5;241m=\u001b[39mwhere)\n",
      "\u001b[1;31mValueError\u001b[0m: setting an array element with a sequence. The requested array has an inhomogeneous shape after 2 dimensions. The detected shape was (2, 3) + inhomogeneous part."
     ]
    }
   ],
   "source": [
    "battery_avg = np.mean(battery[0:-1],1)\n",
    "odpm_total_avg = np.mean(odpm_total[0:-1],1)\n",
    "error = odpm_total_avg-battery_avg\n",
    "# modem_avg = np.mean(modem,1)\n",
    "legend_list = ['Standby','Iperf1M','Iperf5M','Iperf10M','Iperf50M']\n",
    "plt.rcParams['figure.figsize'] = [13, 10]\n",
    "plt.plot(battery_avg,color='blue',linestyle='-',marker='o',label = 'Power from Battery counters')\n",
    "plt.errorbar(range(4),battery_avg,yerr=np.std(battery[0:-1],1),color='blue')\n",
    "plt.plot(odpm_total_avg,color='purple',linestyle='-',marker='>',label='Modem + RFE power (ODPM)')\n",
    "plt.errorbar(range(4),odpm_total_avg,yerr=np.std(odpm_total[0:-1],1),color='purple')\n",
    "\n",
    "# plt.errorbar(range(5),battery_avg,yerr=np.std(battery,1),color='blue')\n",
    "# plt.plot(modem_avg,color='green',linestyle='-',marker='x',label='Modem Power')\n",
    "plt.legend()\n",
    "plt.title('Avg powers over 10 experiments') \n",
    "plt.xticks(range(0,4),legend_list[0:-1])\n",
    "plt.grid(visible=True,which='major',color='k', linestyle=':', linewidth=1, alpha=0.5)\n",
    "plt.grid(visible=True,which='minor',color='k', linestyle=':', linewidth=1, alpha=0.1)\n",
    "plt.ylim([300,800])"
   ]
  },
  {
   "cell_type": "code",
   "execution_count": null,
   "id": "a8417845",
   "metadata": {},
   "outputs": [],
   "source": [
    "battery_error = [[],[],[],[]]\n",
    "total_error = [[],[],[],[]]\n",
    "\n",
    "legend_list = ['Standby','Iperf1M','Iperf5M','Iperf10M']\n",
    "plt.rcParams['figure.figsize'] = [13, 10]\n",
    "for i in range(4):\n",
    "    battery_error[i] = [abs(b-m) for b,m in zip(battery[i],modem[i])]\n",
    "    total_error[i] = [abs(b-m) for b,m in zip(total[i],modem[i])]\n",
    "    plt.subplot(2,2,i+1)\n",
    "    plt.plot(battery[i],label='battery',color = 'blue')\n",
    "    plt.plot(total[i],label='total',color='purple')\n",
    "    plt.plot(modem[i],label='modem',color='green')\n",
    "    plt.legend()\n",
    "    plt.xlabel('Experiment number')\n",
    "    plt.ylabel('Power (mW)')\n",
    "    plt.title(legend_list[i])\n",
    "    plt.grid(visible=True,which='major',color='k', linestyle=':', linewidth=1, alpha=0.5)\n",
    "    plt.grid(visible=True,which='minor',color='k', linestyle=':', linewidth=1, alpha=0.1)"
   ]
  },
  {
   "cell_type": "code",
   "execution_count": null,
   "id": "3a9277a9",
   "metadata": {},
   "outputs": [],
   "source": [
    "plt.rcParams['figure.figsize'] = [13, 10]\n",
    "plt.boxplot(battery_error)\n",
    "plt.title('Box plot for absolute error') \n",
    "plt.xticks(range(1,5),legend_list)\n",
    "plt.grid(visible=True,which='major',color='k', linestyle=':', linewidth=1, alpha=0.5)\n",
    "plt.grid(visible=True,which='minor',color='k', linestyle=':', linewidth=1, alpha=0.1)"
   ]
  },
  {
   "cell_type": "code",
   "execution_count": null,
   "id": "4bdd0f62",
   "metadata": {},
   "outputs": [],
   "source": [
    "tp_list.append(TraceProcessor(trace='../Perfetto_traces/5_3_no_charge_airplane1.perfetto-trace')) #10-15 dBm\n",
    "tp_list.append(TraceProcessor(trace='../Perfetto_traces/5_3_no_charge_stdby1.perfetto-trace')) #10-15 dBm\n",
    "tp_list.append(TraceProcessor(trace='../Perfetto_traces/5_3_no_charge_iperf0.perfetto-trace')) #10-15 dBm\n",
    "num_tps = len(tp_list)\n",
    "id_mapper = [27]+list(range(1,25))\n",
    "# string_mapper = [\"Battery charge\",\"Battery capacity pct\",\"Battery current\",\"Battery avg current\",\"Modem\",\"RFE\",\"mmWave\",\"Display\"]\n",
    "\n",
    "df_list_cleaned = [[tp.query('SELECT ts,value FROM counter WHERE track_id='+str(i)+'')\n",
    "               .as_pandas_dataframe().replace(np.nan,0)\n",
    "               .values.tolist() for i in id_mapper] for tp in tp_list]\n",
    "[b1,b2,m1,m2,t1,t2] = get_powers(num_tps,df_list_cleaned)\n"
   ]
  },
  {
   "cell_type": "markdown",
   "id": "e6d3607c",
   "metadata": {},
   "source": [
    "Plotting all powers for different modes"
   ]
  },
  {
   "cell_type": "markdown",
   "id": "33a70bc9",
   "metadata": {},
   "source": [
    "Plotting difference in powers across different modes"
   ]
  },
  {
   "cell_type": "code",
   "execution_count": 151,
   "id": "a3a9cdd0",
   "metadata": {},
   "outputs": [
    {
     "ename": "NameError",
     "evalue": "name 'battery_power' is not defined",
     "output_type": "error",
     "traceback": [
      "\u001b[1;31m---------------------------------------------------------------------------\u001b[0m",
      "\u001b[1;31mNameError\u001b[0m                                 Traceback (most recent call last)",
      "Cell \u001b[1;32mIn[151], line 1\u001b[0m\n\u001b[1;32m----> 1\u001b[0m delta_battery1\u001b[38;5;241m=\u001b[39m (np\u001b[38;5;241m.\u001b[39mmean(battery_power[\u001b[38;5;241m1\u001b[39m])\u001b[38;5;241m-\u001b[39mnp\u001b[38;5;241m.\u001b[39mmean(battery_power[\u001b[38;5;241m0\u001b[39m]))\n\u001b[0;32m      2\u001b[0m delta_total1\u001b[38;5;241m=\u001b[39m (np\u001b[38;5;241m.\u001b[39mmean(total_power[\u001b[38;5;241m1\u001b[39m])\u001b[38;5;241m-\u001b[39mnp\u001b[38;5;241m.\u001b[39mmean(total_power[\u001b[38;5;241m0\u001b[39m]))\u001b[38;5;241m*\u001b[39m\u001b[38;5;241m4\u001b[39m\u001b[38;5;241m/\u001b[39m\u001b[38;5;241m1000\u001b[39m\n\u001b[0;32m      3\u001b[0m delta_modem1 \u001b[38;5;241m=\u001b[39m (np\u001b[38;5;241m.\u001b[39mmean(modem_power[\u001b[38;5;241m1\u001b[39m])\u001b[38;5;241m-\u001b[39mnp\u001b[38;5;241m.\u001b[39mmean(modem_power[\u001b[38;5;241m0\u001b[39m]))\u001b[38;5;241m*\u001b[39m\u001b[38;5;241m4\u001b[39m\u001b[38;5;241m/\u001b[39m\u001b[38;5;241m1000\u001b[39m\n",
      "\u001b[1;31mNameError\u001b[0m: name 'battery_power' is not defined"
     ]
    }
   ],
   "source": [
    "delta_battery1= (np.mean(battery_power[1])-np.mean(battery_power[0]))\n",
    "delta_total1= (np.mean(total_power[1])-np.mean(total_power[0]))*4/1000\n",
    "delta_modem1 = (np.mean(modem_power[1])-np.mean(modem_power[0]))*4/1000\n",
    "delta_rfe1 = (np.mean(rfe_power[1])-np.mean(rfe_power[0]))*4/1000\n",
    "\n",
    "delta_battery2= (np.mean(battery_power[2])-np.mean(battery_power[0]))\n",
    "delta_total2= (np.mean(total_power[2])-np.mean(total_power[0]))*4/1000\n",
    "delta_modem2 = (np.mean(modem_power[2])-np.mean(modem_power[0]))*4/1000\n",
    "delta_rfe2 = (np.mean(rfe_power[2])-np.mean(rfe_power[0]))*4/1000"
   ]
  },
  {
   "cell_type": "code",
   "execution_count": 152,
   "id": "6635da22",
   "metadata": {},
   "outputs": [
    {
     "ename": "NameError",
     "evalue": "name 'delta_battery1' is not defined",
     "output_type": "error",
     "traceback": [
      "\u001b[1;31m---------------------------------------------------------------------------\u001b[0m",
      "\u001b[1;31mNameError\u001b[0m                                 Traceback (most recent call last)",
      "Cell \u001b[1;32mIn[152], line 5\u001b[0m\n\u001b[0;32m      3\u001b[0m plt\u001b[38;5;241m.\u001b[39msubplot(\u001b[38;5;241m2\u001b[39m,\u001b[38;5;241m1\u001b[39m,\u001b[38;5;241m1\u001b[39m)\n\u001b[0;32m      4\u001b[0m \u001b[38;5;66;03m# plt.plot(x_vals,delta_total1,label='Total power(OPDM)',color='blue')\u001b[39;00m\n\u001b[1;32m----> 5\u001b[0m avg \u001b[38;5;241m=\u001b[39m np\u001b[38;5;241m.\u001b[39mmean(delta_battery1)\n\u001b[0;32m      6\u001b[0m plt\u001b[38;5;241m.\u001b[39mplot([x_vals[\u001b[38;5;241m0\u001b[39m],x_vals[\u001b[38;5;241m-\u001b[39m\u001b[38;5;241m1\u001b[39m]],[avg,avg],linestyle\u001b[38;5;241m=\u001b[39m\u001b[38;5;124m'\u001b[39m\u001b[38;5;124m--\u001b[39m\u001b[38;5;124m'\u001b[39m,label\u001b[38;5;241m=\u001b[39m\u001b[38;5;124m'\u001b[39m\u001b[38;5;124mAvg Battery power : \u001b[39m\u001b[38;5;124m'\u001b[39m\u001b[38;5;241m+\u001b[39m\u001b[38;5;28mstr\u001b[39m(avg),color\u001b[38;5;241m=\u001b[39m\u001b[38;5;124m'\u001b[39m\u001b[38;5;124mblue\u001b[39m\u001b[38;5;124m'\u001b[39m)\n\u001b[0;32m      8\u001b[0m avg \u001b[38;5;241m=\u001b[39m np\u001b[38;5;241m.\u001b[39mmean(delta_total1)\n",
      "\u001b[1;31mNameError\u001b[0m: name 'delta_battery1' is not defined"
     ]
    },
    {
     "data": {
      "image/png": "[encoded data removed]",
      "text/plain": [
       "<Figure size 1300x1000 with 1 Axes>"
      ]
     },
     "metadata": {},
     "output_type": "display_data"
    }
   ],
   "source": [
    "'''Plots'''\n",
    "plt.rcParams['figure.figsize'] = [13, 10]\n",
    "plt.subplot(2,1,1)\n",
    "# plt.plot(x_vals,delta_total1,label='Total power(OPDM)',color='blue')\n",
    "avg = np.mean(delta_battery1)\n",
    "plt.plot([x_vals[0],x_vals[-1]],[avg,avg],linestyle='--',label='Avg Battery power : '+str(avg),color='blue')\n",
    "\n",
    "avg = np.mean(delta_total1)\n",
    "plt.plot([x_vals[0],x_vals[-1]],[delta_total1,delta_total1],linestyle='--',label='Avg Total power : '+str(avg),color='purple')\n",
    "avg = np.mean(delta_modem1)\n",
    "# plt.plot(x_vals,delta_modem1,label='Modem power',color='green')\n",
    "plt.plot([x_vals[0],x_vals[-1]],[delta_modem1,delta_modem1],linestyle='--',label='Avg modem power : '+str(avg),color='green')\n",
    "\n",
    "plt.xlabel(\"Time (seconds)\", fontsize=12)\n",
    "plt.ylabel(\"Power (mW)\", fontsize=16)\n",
    "plt.title(\"Total power vs Modem power difference between standby and airplane\")\n",
    "plt.legend(fontsize=10)\n",
    "# plt.title('Ratio vs #femto BS')\n",
    "plt.grid(visible=True,which='major',color='k', linestyle=':', linewidth=1, alpha=0.5)\n",
    "plt.grid(visible=True,which='minor',color='k', linestyle=':', linewidth=1, alpha=0.1)\n",
    "# plt.minorticks_on()\n",
    "\n",
    "plt.xticks(fontsize=12)\n",
    "plt.yticks(fontsize=14)\n",
    "plt.subplot(2,1,2)\n",
    "# plt.plot(x_vals,delta_total2,label='Total power(OPDM)',color='blue')\n",
    "avg = np.mean(delta_battery2)\n",
    "plt.plot([x_vals[0],x_vals[-1]],[avg,avg],linestyle='--',label='Avg Battery power : '+str(avg),color='blue')\n",
    "avg = np.mean(delta_total2)\n",
    "plt.plot([x_vals[0],x_vals[-1]],[delta_total2,delta_total2],linestyle='--',label='Avg Total power : '+str(avg),color='purple')\n",
    "avg = np.mean(delta_modem2)\n",
    "# plt.plot(x_vals,delta_modem2,label='Modem power',color='green')\n",
    "plt.plot([x_vals[0],x_vals[-1]],[delta_modem2,delta_modem2],linestyle='--',label='Avg Modem power : '+str(avg),color='green')\n",
    "avg = np.mean(delta_rfe2)\n",
    "# plt.plot([x_vals[0],x_vals[-1]],[delta_rfe2,delta_rfe2],linestyle='--',label='Avg rfe power : '+str(avg),color='teal')\n",
    "\n",
    "plt.xlabel(\"Time (seconds)\", fontsize=12)\n",
    "plt.ylabel(\"Power (mW)\", fontsize=16)\n",
    "plt.title(\"Total power vs Modem power difference between iperf and airplane\")\n",
    "plt.legend(fontsize=10)\n",
    "# plt.title('Ratio vs #femto BS')\n",
    "plt.grid(visible=True,which='major',color='k', linestyle=':', linewidth=1, alpha=0.5)\n",
    "plt.grid(visible=True,which='minor',color='k', linestyle=':', linewidth=1, alpha=0.1)\n",
    "# plt.minorticks_on()\n",
    "\n",
    "plt.xticks(fontsize=12)\n",
    "plt.yticks(fontsize=14)\n",
    "# plt.ylim([0,2150])\n",
    "# print(total_power)"
   ]
  },
  {
   "cell_type": "markdown",
   "id": "3e6d2de6",
   "metadata": {},
   "source": [
    "Add all powers for different modes into a data frame and view"
   ]
  },
  {
   "cell_type": "code",
   "execution_count": null,
   "id": "726a2a3d",
   "metadata": {},
   "outputs": [],
   "source": [
    "tp = TraceProcessor(trace='../Perfetto_traces/5_2_battery_trial.perfetto-trace') #10-15 dBm\n",
    "\n",
    "# print(tp)\n",
    "# select ts, t.name, value from counter as c left join counter_track t on c.track_id = t.i\n",
    "qr_it = tp.query('SELECT ts,t.name,value,track_id FROM counter as c LEFT JOIN counter_track t ON c.track_id=t.id')\n",
    "# print(qr_it)\n",
    "qr_it_pandas = qr_it.as_pandas_dataframe()\n",
    "names = qr_it_pandas[16:40].name\n",
    "all_powers.columns = ['Airplane','Standby','Iperf']\n",
    "all_powers_diff=all_powers.assign(Airplane_to_stdby = all_powers.Standby -all_powers.Airplane)\n",
    "all_powers_diff = all_powers_diff.assign(Airplane_to_iperf = all_powers.Iperf -all_powers.Airplane)\n",
    "all_powers_diff.set_index(names,inplace=True)\n",
    "display(all_powers_diff)"
   ]
  },
  {
   "cell_type": "code",
   "execution_count": 153,
   "id": "30d67402",
   "metadata": {
    "scrolled": true
   },
   "outputs": [
    {
     "ename": "NameError",
     "evalue": "name 'battery_power' is not defined",
     "output_type": "error",
     "traceback": [
      "\u001b[1;31m---------------------------------------------------------------------------\u001b[0m",
      "\u001b[1;31mNameError\u001b[0m                                 Traceback (most recent call last)",
      "Cell \u001b[1;32mIn[153], line 1\u001b[0m\n\u001b[1;32m----> 1\u001b[0m delta_battery1\u001b[38;5;241m=\u001b[39m ((battery_power[\u001b[38;5;241m1\u001b[39m])\u001b[38;5;241m-\u001b[39m(battery_power[\u001b[38;5;241m0\u001b[39m]))\n\u001b[0;32m      2\u001b[0m delta_total1\u001b[38;5;241m=\u001b[39m ((total_power[\u001b[38;5;241m1\u001b[39m])\u001b[38;5;241m-\u001b[39m(total_power[\u001b[38;5;241m0\u001b[39m]))\u001b[38;5;241m*\u001b[39m\u001b[38;5;241m4\u001b[39m\u001b[38;5;241m/\u001b[39m\u001b[38;5;241m1000\u001b[39m\n\u001b[0;32m      3\u001b[0m delta_modem1 \u001b[38;5;241m=\u001b[39m ((modem_power[\u001b[38;5;241m1\u001b[39m])\u001b[38;5;241m-\u001b[39m(modem_power[\u001b[38;5;241m0\u001b[39m]))\u001b[38;5;241m*\u001b[39m\u001b[38;5;241m4\u001b[39m\u001b[38;5;241m/\u001b[39m\u001b[38;5;241m1000\u001b[39m\n",
      "\u001b[1;31mNameError\u001b[0m: name 'battery_power' is not defined"
     ]
    }
   ],
   "source": [
    "delta_battery1= ((battery_power[1])-(battery_power[0]))\n",
    "delta_total1= ((total_power[1])-(total_power[0]))*4/1000\n",
    "delta_modem1 = ((modem_power[1])-(modem_power[0]))*4/1000\n",
    "delta_rfe1 = ((rfe_power[1])-(rfe_power[0]))*4/1000\n",
    "\n",
    "delta_battery2= ((battery_power[2])-(battery_power[0]))\n",
    "delta_total2= ((total_power[2])-(total_power[0]))*4/1000\n",
    "delta_modem2 = ((modem_power[2])-(modem_power[0]))*4/1000\n",
    "delta_rfe2 = ((rfe_power[2])-(rfe_power[0]))*4/1000\n",
    "plt.rcParams['figure.figsize'] = [13, 10]\n",
    "plt.subplot(2,1,1)\n",
    "plt.plot(x_vals[0:len(battery_power[1,:])],delta_battery1,label='Total power(OPDM)',color='blue')\n",
    "avg = np.mean(delta_battery1)\n",
    "plt.plot([x_vals[0],x_vals[-1]],[avg,avg],linestyle='--',label='Avg Battery power : '+str(avg),color='blue')\n",
    "\n",
    "plt.plot(x_vals[0:len(total_power[1,:])],delta_total1,label='Total power(OPDM)',color='purple')\n",
    "avg = np.mean(delta_total1)\n",
    "plt.plot([x_vals[0],x_vals[-1]],[avg,avg],linestyle='--',label='Avg Total power : '+str(avg),color='purple')\n",
    "avg = np.mean(delta_modem1+delta_rfe1)\n",
    "plt.plot(x_vals,delta_modem1+delta_rfe1,label='Modem power',color='green')\n",
    "plt.plot([x_vals[0],x_vals[-1]],[avg,avg],linestyle='--',label='Avg modem + RFE power : '+str(avg),color='green')\n",
    "\n",
    "plt.xlabel(\"Time (seconds)\", fontsize=12)\n",
    "plt.ylabel(\"Power (mW)\", fontsize=16)\n",
    "plt.title(\"Total power vs Modem power difference between standby and airplane\")\n",
    "plt.legend(fontsize=10)\n",
    "# plt.title('Ratio vs #femto BS')\n",
    "plt.grid(visible=True,which='major',color='k', linestyle=':', linewidth=1, alpha=0.5)\n",
    "plt.grid(visible=True,which='minor',color='k', linestyle=':', linewidth=1, alpha=0.1)\n",
    "# plt.minorticks_on()\n",
    "\n",
    "plt.xticks(fontsize=12)\n",
    "plt.yticks(fontsize=14)\n",
    "\n",
    "plt.subplot(2,1,2)\n",
    "plt.plot(x_vals[0:len(battery_power[1,:])],delta_battery2,label='Total power(OPDM)',color='blue')\n",
    "avg = np.mean(delta_battery2)\n",
    "plt.plot([x_vals[0],x_vals[-1]],[avg,avg],linestyle='--',label='Avg Battery power : '+str(avg),color='blue')\n",
    "plt.plot(x_vals[0:len(total_power[1,:])],delta_total2,label='Total power(OPDM)',color='purple')\n",
    "avg = np.mean(delta_total2)\n",
    "plt.plot([x_vals[0],x_vals[-1]],[avg,avg],linestyle='--',label='Avg Total power : '+str(avg),color='purple')\n",
    "avg = np.mean(delta_modem2+delta_rfe2)\n",
    "plt.plot(x_vals,delta_modem2+delta_rfe2,label='Modem power',color='green')\n",
    "plt.plot([x_vals[0],x_vals[-1]],[avg,avg],linestyle='--',label='Avg Modem +RFE power : '+str(avg),color='green')\n",
    "avg = np.mean(delta_rfe2)\n",
    "# plt.plot([x_vals[0],x_vals[-1]],[delta_rfe2,delta_rfe2],linestyle='--',label='Avg rfe power : '+str(avg),color='teal')\n",
    "\n",
    "plt.xlabel(\"Time (seconds)\", fontsize=12)\n",
    "plt.ylabel(\"Power (mW)\", fontsize=16)\n",
    "plt.title(\"Total power vs Modem power difference between iperf and airplane\")\n",
    "plt.legend(fontsize=10)\n",
    "# plt.title('Ratio vs #femto BS')\n",
    "plt.grid(visible=True,which='major',color='k', linestyle=':', linewidth=1, alpha=0.5)\n",
    "plt.grid(visible=True,which='minor',color='k', linestyle=':', linewidth=1, alpha=0.1)\n",
    "# plt.minorticks_on()\n",
    "\n",
    "plt.xticks(fontsize=12)\n",
    "plt.yticks(fontsize=14)\n",
    "# plt.ylim([0,2150])\n",
    "# print(total_power)"
   ]
  },
  {
   "cell_type": "code",
   "execution_count": null,
   "id": "93180f17",
   "metadata": {
    "scrolled": true
   },
   "outputs": [],
   "source": [
    "df_np = np.array(df_list_cleaned)\n",
    "curr_mode0 = df_np[0,2,:,1]\n",
    "curr_mode1 = df_np[1,2,:,1]\n",
    "curr_mode2 = df_np[2,2,:,1]\n",
    "\n",
    "mdm_pwr0 = (df_np[0,4,1:,1] - df_np[0,4,0:-1,1])*4/1000\n",
    "mdm_pwr1 = (df_np[1,4,1:,1] - df_np[1,4,0:-1,1])*4/1000\n",
    "mdm_pwr2 = (df_np[2,4,1:,1] - df_np[2,4,0:-1,1])*4/1000\n",
    "mdm_pwr_diff1 = (mdm_pwr1-mdm_pwr0)\n",
    "mdm_pwr_diff2 = (mdm_pwr2-mdm_pwr1)\n",
    "\n",
    "battery_power1 =3.7*(curr_mode1-curr_mode0)*10**(-3)\n",
    "battery_power2 = 3.7*(curr_mode2-curr_mode1)*10**(-3)\n",
    "x_vals = df_np[0,2,:,0];\n",
    "plt.rcParams['figure.figsize'] = [13, 10]\n",
    "\n",
    "plt.subplot(1,2,1)\n",
    "# *4 because power measurements done roughly over 250ms (1/4 seconds) interval\n",
    "plt.plot(x_vals,battery_power1, color = 'blue',\n",
    "         label=\"Battery power diff stdby-airp\")\n",
    "min_time = np.min(x_vals[initial_offset:])\n",
    "max_time = np.max(x_vals[initial_offset:])\n",
    "plt.plot([min_time,max_time],[np.mean(battery_power1),np.mean(battery_power1)],color='blue', linestyle=\"--\", label = \"Avg Pow: \"+str(np.mean(battery_power1))+ \" mW\")\n",
    "plt.plot(x_vals,battery_power2,color='teal',label=\"Battery power diff iperf-stdby\")\n",
    "plt.plot([min_time,max_time],[np.mean(battery_power2),np.mean(battery_power2)],color='teal', linestyle=\"--\", label = \"Avg Pow: \"+str(np.mean(battery_power2))+ \" mW\")\n",
    "plt.plot(x_vals[1:],mdm_pwr_diff1,color= 'salmon',label=\"Modem power diff stdby-airp\")\n",
    "plt.plot([min_time,max_time],[np.mean(mdm_pwr_diff1),np.mean(mdm_pwr_diff1)],color='salmon', linestyle=\"--\", label = \"Avg Pow: \"+str(np.mean(mdm_pwr_diff1))+ \" mW\")\n",
    "plt.plot(x_vals[1:],mdm_pwr_diff2,color='orange',label=\"Modem power diff iperf-stdby\")\n",
    "plt.plot([min_time,max_time],[np.mean(mdm_pwr_diff2),np.mean(mdm_pwr_diff2)], color='orange',linestyle=\"--\", label = \"Avg Pow: \"+str(np.mean(mdm_pwr_diff2))+ \" mW\")\n",
    "\n",
    "plt.xlabel(\"Time (seconds)\", fontsize=12)\n",
    "plt.ylabel(\"Power (mW)\", fontsize=16)\n",
    "plt.title('Modem')\n",
    "plt.legend(fontsize=10)\n",
    "# plt.title('Ratio vs #femto BS')\n",
    "plt.grid(visible=True,which='major',color='k', linestyle=':', linewidth=1, alpha=0.5)\n",
    "plt.grid(visible=True,which='minor',color='k', linestyle=':', linewidth=1, alpha=0.1)\n",
    "# plt.minorticks_on()\n",
    "\n",
    "plt.xticks(fontsize=12)\n",
    "plt.yticks(fontsize=14)\n",
    "plt.ylim([0,2150])\n",
    "# print(np.mean(curr_mode1**2-curr_mode0**2)*10**(-6),mdm_pwr_diff1)\n",
    "# print(np.mean(curr_mode2**2-curr_mode1**2)*10**(-6),mdm_pwr_diff2)"
   ]
  },
  {
   "cell_type": "code",
   "execution_count": 154,
   "id": "dbd4b56b",
   "metadata": {},
   "outputs": [
    {
     "ename": "NameError",
     "evalue": "name 'tp_idx' is not defined",
     "output_type": "error",
     "traceback": [
      "\u001b[1;31m---------------------------------------------------------------------------\u001b[0m",
      "\u001b[1;31mNameError\u001b[0m                                 Traceback (most recent call last)",
      "Cell \u001b[1;32mIn[154], line 1\u001b[0m\n\u001b[1;32m----> 1\u001b[0m df_np \u001b[38;5;241m=\u001b[39m np\u001b[38;5;241m.\u001b[39marray(df_list_cleaned[tp_idx])\n\u001b[0;32m      2\u001b[0m df_np[:,:,\u001b[38;5;241m0\u001b[39m] \u001b[38;5;241m=\u001b[39m df_np[:,:,\u001b[38;5;241m0\u001b[39m] \u001b[38;5;241m-\u001b[39m np\u001b[38;5;241m.\u001b[39mtile(df_np[:,\u001b[38;5;241m0\u001b[39m,\u001b[38;5;241m0\u001b[39m],[df_np\u001b[38;5;241m.\u001b[39mshape[\u001b[38;5;241m1\u001b[39m],\u001b[38;5;241m1\u001b[39m])\u001b[38;5;241m.\u001b[39mT\n\u001b[0;32m      3\u001b[0m \u001b[38;5;66;03m#     df_np[:,:,:,0] = df_np[:,:,:,0] - np.tile(df_np[:,:,0,0],[df_np.shape[2],1,1]).transpose(1,2,0) \u001b[39;00m\n",
      "\u001b[1;31mNameError\u001b[0m: name 'tp_idx' is not defined"
     ]
    }
   ],
   "source": [
    "df_np = np.array(df_list_cleaned[tp_idx])\n",
    "df_np[:,:,0] = df_np[:,:,0] - np.tile(df_np[:,0,0],[df_np.shape[1],1]).T\n",
    "#     df_np[:,:,:,0] = df_np[:,:,:,0] - np.tile(df_np[:,:,0,0],[df_np.shape[2],1,1]).transpose(1,2,0) \n",
    "df_np[:,:,0] = df_np[:,:,0]/1e9\n",
    "\n",
    "i =3\n",
    "x_vals = df_np[i-1,:,0]\n",
    "y_vals = df_np[i-1,:,1]\n",
    "delta_y_vals = np.copy(y_vals)\n",
    "delta_y_vals[1:] = delta_y_vals[1:]-delta_y_vals[0:y_vals.size-1]\n",
    "delta_y_vals[0] = 0\n",
    "print(y_vals)\n",
    "# avg_pow_indiv = np.mean(delta_y_vals[initial_offset:])\n",
    "# print(\"Average for \"+str(string_mapper[i-1])+\": \"+str(avg_pow_indiv))\n",
    "# #         plt.subplot(2,2,i)\n",
    "# fig1.add_trace(go.Scatter(x=x_vals[initial_offset:],y=delay_y_vals[initial_offset:],\n",
    "#                       line_color= color_list[tp_idx],name=legend_list[tp_idx],\n",
    "#                     legendgroup=tp_idx,showlegend=(i==1)),row=int((i+1)/2),col=(i-1)%2+1)\n",
    "# fig1.add_trace(go.Scatter(x=[min_time,max_time],y=[avg_pow_indiv,avg_pow_indiv],\n",
    "#                      mode='lines', line={'dash': 'dash', 'color': color_list[tp_idx]},name=\"Avg of \"+str(string_mapper[i-1])+\": \"+str(avg_pow_indiv.round(2)) ,\n",
    "#                      legendgroup=tp_idx),row=int((i+1)/2),col=(i-1)%2+1)\n",
    "\n",
    "# min_time = np.min(x_vals[initial_offset:])\n",
    "# max_time = np.max(x_vals[initial_offset:])"
   ]
  },
  {
   "cell_type": "code",
   "execution_count": 155,
   "id": "d3d5d549",
   "metadata": {},
   "outputs": [
    {
     "ename": "NameError",
     "evalue": "name 'string_mapper' is not defined",
     "output_type": "error",
     "traceback": [
      "\u001b[1;31m---------------------------------------------------------------------------\u001b[0m",
      "\u001b[1;31mNameError\u001b[0m                                 Traceback (most recent call last)",
      "Cell \u001b[1;32mIn[155], line 30\u001b[0m\n\u001b[0;32m     28\u001b[0m         delta_y_vals[\u001b[38;5;241m0\u001b[39m] \u001b[38;5;241m=\u001b[39m \u001b[38;5;241m0\u001b[39m\n\u001b[0;32m     29\u001b[0m         avg_pow_indiv \u001b[38;5;241m=\u001b[39m np\u001b[38;5;241m.\u001b[39mmean(\u001b[38;5;241m3.7\u001b[39m\u001b[38;5;241m*\u001b[39m\u001b[38;5;241m10\u001b[39m\u001b[38;5;241m*\u001b[39m\u001b[38;5;241m*\u001b[39m(\u001b[38;5;241m-\u001b[39m\u001b[38;5;241m3\u001b[39m)\u001b[38;5;241m*\u001b[39m(\u001b[38;5;28mabs\u001b[39m(y_vals[initial_offset:])))\n\u001b[1;32m---> 30\u001b[0m         \u001b[38;5;28mprint\u001b[39m(\u001b[38;5;124m\"\u001b[39m\u001b[38;5;124mAverage Power \u001b[39m\u001b[38;5;124m\"\u001b[39m\u001b[38;5;241m+\u001b[39m\u001b[38;5;28mstr\u001b[39m(string_mapper[i\u001b[38;5;241m-\u001b[39m\u001b[38;5;241m1\u001b[39m])\u001b[38;5;241m+\u001b[39m\u001b[38;5;124m\"\u001b[39m\u001b[38;5;124m: \u001b[39m\u001b[38;5;124m\"\u001b[39m\u001b[38;5;241m+\u001b[39m\u001b[38;5;28mstr\u001b[39m(avg_pow_indiv)\u001b[38;5;241m+\u001b[39m\u001b[38;5;124m\"\u001b[39m\u001b[38;5;124m mW\u001b[39m\u001b[38;5;124m\"\u001b[39m)\n\u001b[0;32m     31\u001b[0m \u001b[38;5;66;03m#         plt.subplot(2,2,i)\u001b[39;00m\n\u001b[0;32m     32\u001b[0m         fig1\u001b[38;5;241m.\u001b[39madd_trace(go\u001b[38;5;241m.\u001b[39mScatter(x\u001b[38;5;241m=\u001b[39mx_vals[initial_offset:],y\u001b[38;5;241m=\u001b[39m\u001b[38;5;241m3.7\u001b[39m\u001b[38;5;241m*\u001b[39m\u001b[38;5;241m10\u001b[39m\u001b[38;5;241m*\u001b[39m\u001b[38;5;241m*\u001b[39m(\u001b[38;5;241m-\u001b[39m\u001b[38;5;241m3\u001b[39m)\u001b[38;5;241m*\u001b[39m(\u001b[38;5;28mabs\u001b[39m(y_vals[initial_offset:])),\n\u001b[0;32m     33\u001b[0m                               line_color\u001b[38;5;241m=\u001b[39m color_list[tp_idx],name\u001b[38;5;241m=\u001b[39mlegend_list[tp_idx],\n\u001b[0;32m     34\u001b[0m                             legendgroup\u001b[38;5;241m=\u001b[39mtp_idx,showlegend\u001b[38;5;241m=\u001b[39m(i\u001b[38;5;241m==\u001b[39m\u001b[38;5;241m1\u001b[39m)),row\u001b[38;5;241m=\u001b[39m\u001b[38;5;28mint\u001b[39m((i\u001b[38;5;241m+\u001b[39m\u001b[38;5;241m1\u001b[39m)\u001b[38;5;241m/\u001b[39m\u001b[38;5;241m2\u001b[39m),col\u001b[38;5;241m=\u001b[39m(i\u001b[38;5;241m-\u001b[39m\u001b[38;5;241m1\u001b[39m)\u001b[38;5;241m%\u001b[39m\u001b[38;5;241m2\u001b[39m\u001b[38;5;241m+\u001b[39m\u001b[38;5;241m1\u001b[39m)\n",
      "\u001b[1;31mNameError\u001b[0m: name 'string_mapper' is not defined"
     ]
    }
   ],
   "source": [
    "## plotly plots\n",
    "color_list = ['blue','green','teal','pink','salmon','blue','green','teal','pink','salmon']\n",
    "# legend_list = [\"Random schedule for 60s\", \"MIMO \",\"Standby\"]\n",
    "legend_list = [\"Airplane\",\"Standby\",\"Iperf\"]\n",
    "legend_list2 = [\"Charge\",\"Capacity(%)\",\"Current\",\"Avg current\",\"Modem\",\"RFE\",\"mmWave\",\"Display\"]\n",
    "# legend_list = [\"Brightness - 35%\",\"Brightness - 70%\",\"Brightness - 100%\",\"Reading3\",\"Standby_to_airplane\",\"Standby\"]\n",
    "# legend_list = [\"Standby to Wifi\",\"Wifi Alone\",\"Airplane alone\",\"Standby\"]\n",
    "\n",
    "# string_mapper_AS = [\"Cellular (Total)\",\"Display\"]\n",
    "initial_offset = 2\n",
    "# end_offset = 72\n",
    "fig1 = make_subplots(rows=2,cols=2,subplot_titles=(\"Charge\",\"Capacity(%)\",\"Current\",\"Avg current\"),column_widths=[1,1],row_heights=[1,1])\n",
    "fig2 = make_subplots(rows=2,cols=2,subplot_titles=(\"Modem\",\"RFE\",\"mmWave\",\"Display\"),column_widths=[1,1],row_heights=[1,1])\n",
    "\n",
    "for tp_idx in range(num_tps):\n",
    "    df_np = np.array(df_list_cleaned[tp_idx])\n",
    "    df_np[:,:,0] = df_np[:,:,0] - np.tile(df_np[:,0,0],[df_np.shape[1],1]).T\n",
    "#     df_np[:,:,:,0] = df_np[:,:,:,0] - np.tile(df_np[:,:,0,0],[df_np.shape[2],1,1]).transpose(1,2,0) \n",
    "    df_np[:,:,0] = df_np[:,:,0]/1e9\n",
    "    \n",
    "    for i in range(1,5):\n",
    "        x_vals = df_np[i-1,:,0]\n",
    "        y_vals = df_np[i-1,:,1]\n",
    "#         x_vals = x_vals[:min(x_vals.size,end_offset)]\n",
    "#         y_vals = y_vals[:min(y_vals.size,end_offset)]\n",
    "        delta_y_vals = np.copy(y_vals)\n",
    "        delta_y_vals[1:] = delta_y_vals[1:]-delta_y_vals[0:y_vals.size-1]\n",
    "        delta_y_vals[0] = 0\n",
    "        avg_pow_indiv = np.mean(3.7*10**(-3)*(abs(y_vals[initial_offset:])))\n",
    "        print(\"Average Power \"+str(string_mapper[i-1])+\": \"+str(avg_pow_indiv)+\" mW\")\n",
    "#         plt.subplot(2,2,i)\n",
    "        fig1.add_trace(go.Scatter(x=x_vals[initial_offset:],y=3.7*10**(-3)*(abs(y_vals[initial_offset:])),\n",
    "                              line_color= color_list[tp_idx],name=legend_list[tp_idx],\n",
    "                            legendgroup=tp_idx,showlegend=(i==1)),row=int((i+1)/2),col=(i-1)%2+1)\n",
    "    \n",
    "        min_time = np.min(x_vals[initial_offset:])\n",
    "        max_time = np.max(x_vals[initial_offset:])\n",
    "        fig1.add_trace(go.Scatter(x=[min_time,max_time],y=[avg_pow_indiv,avg_pow_indiv],\n",
    "                             mode='lines', line={'dash': 'dash', 'color': color_list[tp_idx]},name=\"Avg of \"+str(string_mapper[i-1])+\": \"+str(avg_pow_indiv.round(2)) ,\n",
    "                             legendgroup=tp_idx),row=int((i+1)/2),col=(i-1)%2+1)\n",
    "\n",
    "        \n",
    "    for i in range(5,9):\n",
    "        x_vals = df_np[i-1,:,0]\n",
    "        y_vals = df_np[i-1,:,1]\n",
    "\n",
    "#         x_vals = x_vals[:min(x_vals.size,end_offset)]\n",
    "#         y_vals = y_vals[:min(y_vals.size,end_offset)]\n",
    "        delta_y_vals = np.copy(y_vals)\n",
    "        delta_y_vals[1:] = delta_y_vals[1:]-delta_y_vals[0:y_vals.size-1]\n",
    "        delta_y_vals[0] = 0\n",
    "        avg_pow_indiv = np.mean(delta_y_vals[initial_offset:]*(4/1000))\n",
    "        print(\"Average Power (mW) for \"+str(string_mapper[i-1])+\": \"+str(avg_pow_indiv)+\" mW\")\n",
    "#         plt.subplot(2,2,i) \n",
    "        fig1.add_trace(go.Scatter(x=x_vals[initial_offset:],y=delta_y_vals[initial_offset:]*(4/1000),\n",
    "                              line_color= color_list[i],name=legend_list[tp_idx]+\" - \" + legend_list2[i-1],\n",
    "                            legendgroup=tp_idx,showlegend=True),row=int(2),col=(1))\n",
    "        fig1.add_trace(go.Scatter(x=[min_time,max_time],y=[avg_pow_indiv,avg_pow_indiv],\n",
    "             mode='lines', line={'dash': 'dash', 'color': color_list[i]},name=\"Avg Pow of \"+str(string_mapper[i-1])+\": \"+str(avg_pow_indiv.round(2))+ \" mW\",\n",
    "             legendgroup=tp_idx),row=int(2),col=(2))\n",
    "        # *4 because power measurements done roughly over 250ms (1/4 seconds) interval\n",
    "#         plt.plot(x_vals[initial_offset:],delta_y_vals[initial_offset:]*(4/1000), \n",
    "#                  color=color_list[tp_idx],linewidth=2, linestyle=line_list[tp_idx], label=legend_list[tp_idx])\n",
    "        min_time = np.min(x_vals[initial_offset:])\n",
    "        max_time = np.max(x_vals[initial_offset:])\n",
    "#         fig.add_trace(go.Scatter(x=[min_time,max_time],y=[avg_pow_indiv,avg_pow_indiv],\n",
    "#                                  mode='lines', line={'dash': 'dash', 'color': color_list[tp_idx]},name=\"Avg Pow of \"+str(string_mapper[i-1])+\": \"+str(avg_pow_indiv.round(2))+ \" mW\",\n",
    "#                                  legendgroup=tp_idx),row=int((i+1)/2),col=(i-1)%2+1)\n",
    "#         fig.add_annotation(xref=\"x domain\", yref=\"y domain\",\n",
    "#                   x=1, y=1,text=\"Avg Pow: \"+str(avg_pow_indiv.round(2))+ \" mW\",showarrow=True)\n",
    "#         plt.xlabel(\"Time (seconds)\", fontsize=12)\n",
    "#         plt.ylabel(\"Power (mW)\", fontsize=16)\n",
    "#         plt.legend(fontsize=10)\n",
    "        # plt.title('Ratio vs #femto BS')\n",
    "#         plt.grid(visible=True,which='major',color='k', linestyle=':', linewidth=1, alpha=0.5)\n",
    "#         plt.grid(visible=True,which='minor',color='k', linestyle=':', linewidth=1, alpha=0.1)\n",
    "#         plt.minorticks_on()\n",
    "        \n",
    "#         plt.xticks(fontsize=12)\n",
    "#         plt.yticks(fontsize=14)\n",
    "fig1.update_xaxes(title='Time')\n",
    "fig1.update_yaxes(range=[-10,6050],title='Power')\n",
    "fig1.update_layout(height=800, width=1.3*800, \n",
    "                  title=dict(text=\"Power consumption of UE with iperf&sleep\", font=dict(size=15)),\n",
    "                  showlegend=enable_legend)\n",
    "\n",
    "fig1.show()\n",
    "fig2.update_xaxes(title='Time')\n",
    "fig2.update_yaxes(range=[0,2150],title='Power')\n",
    "fig2.update_layout(height=800, width=1.3*800, \n",
    "                  title=dict(text=\"Power consumption of UE with iperf&sleep\", font=dict(size=15)),\n",
    "                  showlegend=enable_legend)\n",
    "\n",
    "fig2.show()\n",
    "# fig_name = \"random_sched\"\n",
    "# fig.write_html(\"./\"+fig_name+\".html\")"
   ]
  },
  {
   "cell_type": "code",
   "execution_count": null,
   "id": "1ea3e0d9",
   "metadata": {},
   "outputs": [],
   "source": [
    "initial_offset\n"
   ]
  },
  {
   "cell_type": "code",
   "execution_count": null,
   "id": "32196ae8",
   "metadata": {
    "scrolled": true
   },
   "outputs": [],
   "source": [
    "## normal plots matplotlib\n",
    "# string_mapper_AS = [\"Cellular (Total)\",\"Display\"]\n",
    "plt.rcParams['figure.figsize'] = [13, 10]\n",
    "# color_list = ['red','orange','yellow']\n",
    "color_list = ['green','orange','red','salmon']\n",
    "\n",
    "legend_list = [\"Youtube Loc1\",\"Youtube Loc2\",\"Youtube Loc3\"]\n",
    "legend_list = [\"Display off\",\"Reading 1\",\"Reading 2\",\"Reading3\",\"Standby\"]\n",
    "legend_list = [\"Brightness - 35%\",\"Brightness - 70%\",\"Brightness - 100%\",\"Reading3\",\"Standby_to_airplane\",\"Standby\"]\n",
    "\n",
    "initial_offset = 2\n",
    "# end_offset = 72\n",
    "for tp_idx in range(num_tps):\n",
    "    df_np = np.array(df_list_cleaned[tp_idx])\n",
    "    df_np[:,:,0] = df_np[:,:,0] - np.tile(df_np[:,0,0],[df_np.shape[1],1]).T\n",
    "#     df_np[:,:,:,0] = df_np[:,:,:,0] - np.tile(df_np[:,:,0,0],[df_np.shape[2],1,1]).transpose(1,2,0) \n",
    "    df_np[:,:,0] = df_np[:,:,0]/1e9\n",
    "    \n",
    "    for i in range(1,5):\n",
    "        x_vals = df_np[i-1,:,0]\n",
    "        y_vals = df_np[i-1,:,1]\n",
    "#         x_vals = x_vals[:min(x_vals.size,end_offset)]\n",
    "#         y_vals = y_vals[:min(y_vals.size,end_offset)]\n",
    "        delta_y_vals = np.copy(y_vals)\n",
    "        delta_y_vals[1:] = delta_y_vals[1:]-delta_y_vals[0:y_vals.size-1]\n",
    "        delta_y_vals[0] = 0\n",
    "#         avg_pow_indiv = np.max(delta_y_vals[initial_offset:]*(4/1000))\n",
    "        avg_pow_indiv = np.mean(delta_y_vals[120:240]*4/1000)\n",
    "\n",
    "        print(\"Peak Power (mW) for \"+str(string_mapper[i-1])+\": \"+str(avg_pow_indiv)+\" mW\")\n",
    "        plt.subplot(2,2,i)\n",
    "        # *4 because power measurements done roughly over 250ms (1/4 seconds) interval\n",
    "        plt.plot(x_vals[initial_offset:],delta_y_vals[initial_offset:]*(4/1000), \n",
    "                 color=color_list[tp_idx],linewidth=2, linestyle=line_list[tp_idx], label=legend_list[tp_idx])\n",
    "        min_time = np.min(x_vals[initial_offset:])\n",
    "        max_time = np.max(x_vals[initial_offset:])\n",
    "        plt.plot([min_time,max_time],[avg_pow_indiv,avg_pow_indiv], linestyle=\"--\", color=color_list[tp_idx], label = \"Peak Pow: \"+str(avg_pow_indiv.round(2))+ \" mW\")\n",
    "        plt.xlabel(\"Time (seconds)\", fontsize=12)\n",
    "        plt.ylabel(\"Power (mW)\", fontsize=16)\n",
    "        plt.title(string_mapper[i-1])\n",
    "        plt.legend(fontsize=10)\n",
    "        # plt.title('Ratio vs #femto BS')\n",
    "        plt.grid(visible=True,which='major',color='k', linestyle=':', linewidth=1, alpha=0.5)\n",
    "        plt.grid(visible=True,which='minor',color='k', linestyle=':', linewidth=1, alpha=0.1)\n",
    "        plt.minorticks_on()\n",
    "        \n",
    "        plt.xticks(fontsize=12)\n",
    "        plt.yticks(fontsize=14)\n",
    "        plt.ylim([0,2150])\n",
    "        if(enable_legend):\n",
    "            plt.legend()\n",
    "\n",
    "plt.suptitle('Power consumption comparison between 3 locations')\n",
    "# plt.suptitle(\"Delta Values, can be checked with Android Studio\")\n",
    "# plt.savefig(\"./5G.pdf\")"
   ]
  },
  {
   "cell_type": "code",
   "execution_count": null,
   "id": "cb7d70f7",
   "metadata": {},
   "outputs": [],
   "source": [
    "## plotly colors \n",
    "'''\n",
    " aliceblue, antiquewhite, aqua, aquamarine, azure,\n",
    "                beige, bisque, black, blanchedalmond, blue,\n",
    "                blueviolet, brown, burlywood, cadetblue,\n",
    "                chartreuse, chocolate, coral, cornflowerblue,\n",
    "                cornsilk, crimson, cyan, darkblue, darkcyan,\n",
    "                darkgoldenrod, darkgray, darkgrey, darkgreen,\n",
    "                darkkhaki, darkmagenta, darkolivegreen, darkorange,\n",
    "                darkorchid, darkred, darksalmon, darkseagreen,\n",
    "                darkslateblue, darkslategray, darkslategrey,\n",
    "                darkturquoise, darkviolet, deeppink, deepskyblue,\n",
    "                dimgray, dimgrey, dodgerblue, firebrick,\n",
    "                floralwhite, forestgreen, fuchsia, gainsboro,\n",
    "                ghostwhite, gold, goldenrod, gray, grey, green,\n",
    "                greenyellow, honeydew, hotpink, indianred, indigo,\n",
    "                ivory, khaki, lavender, lavenderblush, lawngreen,\n",
    "                lemonchiffon, lightblue, lightcoral, lightcyan,\n",
    "                lightgoldenrodyellow, lightgray, lightgrey,\n",
    "                lightgreen, lightpink, lightsalmon, lightseagreen,\n",
    "                lightskyblue, lightslategray, lightslategrey,\n",
    "                lightsteelblue, lightyellow, lime, limegreen,\n",
    "                linen, magenta, maroon, mediumaquamarine,\n",
    "                mediumblue, mediumorchid, mediumpurple,\n",
    "                mediumseagreen, mediumslateblue, mediumspringgreen,\n",
    "                mediumturquoise, mediumvioletred, midnightblue,\n",
    "                mintcream, mistyrose, moccasin, navajowhite, navy,\n",
    "                oldlace, olive, olivedrab, orange, orangered,\n",
    "                orchid, palegoldenrod, palegreen, paleturquoise,\n",
    "                palevioletred, papayawhip, peachpuff, peru, pink,\n",
    "                plum, powderblue, purple, red, rosybrown,\n",
    "                royalblue, saddlebrown, salmon, sandybrown,\n",
    "                seagreen, seashell, sienna, silver, skyblue,\n",
    "                slateblue, slategray, slategrey, snow, springgreen,\n",
    "                steelblue, tan, teal, thistle, tomato, turquoise,\n",
    "                violet, wheat, white, whitesmoke, yellow,\n",
    "                yellowgreen\n",
    "                '''"
   ]
  },
  {
   "cell_type": "code",
   "execution_count": null,
   "id": "7afa5bbf",
   "metadata": {},
   "outputs": [],
   "source": []
  },
  {
   "cell_type": "code",
   "execution_count": null,
   "id": "a25543b8",
   "metadata": {},
   "outputs": [],
   "source": []
  },
  {
   "cell_type": "code",
   "execution_count": null,
   "id": "96555c40",
   "metadata": {},
   "outputs": [],
   "source": []
  }
 ],
 "metadata": {
  "kernelspec": {
   "display_name": "Python 3 (ipykernel)",
   "language": "python",
   "name": "python3"
  },
  "language_info": {
   "codemirror_mode": {
    "name": "ipython",
    "version": 3
   },
   "file_extension": ".py",
   "mimetype": "text/x-python",
   "name": "python",
   "nbconvert_exporter": "python",
   "pygments_lexer": "ipython3",
   "version": "3.11.5"
  }
 },
 "nbformat": 4,
 "nbformat_minor": 5
}
